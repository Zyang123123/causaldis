{
 "cells": [
  {
   "cell_type": "markdown",
   "metadata": {},
   "source": [
    "# DirectLiNGAM by Kernel Method"
   ]
  },
  {
   "cell_type": "markdown",
   "metadata": {},
   "source": [
    "## Import and settings\n",
    "In this example, we need to import `numpy`, `pandas`, and `graphviz` in addition to `lingam`."
   ]
  },
  {
   "cell_type": "code",
   "execution_count": 1,
   "metadata": {
    "ExecuteTime": {
     "end_time": "2019-09-09T02:01:39.097825Z",
     "start_time": "2019-09-09T02:01:33.841227Z"
    }
   },
   "outputs": [
    {
     "name": "stdout",
     "output_type": "stream",
     "text": [
      "['1.26.3', '2.2.2', '0.20.3', '1.8.3']\n"
     ]
    }
   ],
   "source": [
    "import numpy as np\n",
    "import pandas as pd\n",
    "import graphviz\n",
    "import lingam\n",
    "from lingam.utils import make_dot\n",
    "\n",
    "print([np.__version__, pd.__version__, graphviz.__version__, lingam.__version__])\n",
    "\n",
    "np.set_printoptions(precision=3, suppress=True)\n",
    "np.random.seed(0)"
   ]
  },
  {
   "cell_type": "markdown",
   "metadata": {},
   "source": [
    "## Test data\n",
    "We create test data consisting of 6 variables."
   ]
  },
  {
   "cell_type": "code",
   "execution_count": 5,
   "metadata": {
    "ExecuteTime": {
     "end_time": "2019-09-09T02:01:39.159633Z",
     "start_time": "2019-09-09T02:01:39.110757Z"
    }
   },
   "outputs": [
    {
     "data": {
      "text/html": [
       "<div>\n",
       "<style scoped>\n",
       "    .dataframe tbody tr th:only-of-type {\n",
       "        vertical-align: middle;\n",
       "    }\n",
       "\n",
       "    .dataframe tbody tr th {\n",
       "        vertical-align: top;\n",
       "    }\n",
       "\n",
       "    .dataframe thead th {\n",
       "        text-align: right;\n",
       "    }\n",
       "</style>\n",
       "<table border=\"1\" class=\"dataframe\">\n",
       "  <thead>\n",
       "    <tr style=\"text-align: right;\">\n",
       "      <th></th>\n",
       "      <th>x0</th>\n",
       "      <th>x1</th>\n",
       "      <th>x2</th>\n",
       "      <th>x3</th>\n",
       "      <th>x4</th>\n",
       "    </tr>\n",
       "  </thead>\n",
       "  <tbody>\n",
       "    <tr>\n",
       "      <th>0</th>\n",
       "      <td>-1.418654</td>\n",
       "      <td>0.120554</td>\n",
       "      <td>-0.746230</td>\n",
       "      <td>0.686243</td>\n",
       "      <td>-0.833859</td>\n",
       "    </tr>\n",
       "    <tr>\n",
       "      <th>1</th>\n",
       "      <td>-1.331029</td>\n",
       "      <td>0.569770</td>\n",
       "      <td>-0.873070</td>\n",
       "      <td>-1.020526</td>\n",
       "      <td>-0.922058</td>\n",
       "    </tr>\n",
       "    <tr>\n",
       "      <th>2</th>\n",
       "      <td>-1.119456</td>\n",
       "      <td>-0.487617</td>\n",
       "      <td>-0.432181</td>\n",
       "      <td>-0.250969</td>\n",
       "      <td>-3.260397</td>\n",
       "    </tr>\n",
       "    <tr>\n",
       "      <th>3</th>\n",
       "      <td>-0.849860</td>\n",
       "      <td>-1.278822</td>\n",
       "      <td>-1.672980</td>\n",
       "      <td>-2.587599</td>\n",
       "      <td>0.591868</td>\n",
       "    </tr>\n",
       "    <tr>\n",
       "      <th>4</th>\n",
       "      <td>-1.409522</td>\n",
       "      <td>-3.253269</td>\n",
       "      <td>-1.041908</td>\n",
       "      <td>-3.747548</td>\n",
       "      <td>-3.305862</td>\n",
       "    </tr>\n",
       "    <tr>\n",
       "      <th>...</th>\n",
       "      <td>...</td>\n",
       "      <td>...</td>\n",
       "      <td>...</td>\n",
       "      <td>...</td>\n",
       "      <td>...</td>\n",
       "    </tr>\n",
       "    <tr>\n",
       "      <th>995</th>\n",
       "      <td>0.293434</td>\n",
       "      <td>0.382182</td>\n",
       "      <td>-0.398677</td>\n",
       "      <td>-1.318776</td>\n",
       "      <td>-0.199938</td>\n",
       "    </tr>\n",
       "    <tr>\n",
       "      <th>996</th>\n",
       "      <td>-0.227366</td>\n",
       "      <td>-2.242093</td>\n",
       "      <td>-1.841319</td>\n",
       "      <td>-1.429256</td>\n",
       "      <td>-1.679893</td>\n",
       "    </tr>\n",
       "    <tr>\n",
       "      <th>997</th>\n",
       "      <td>2.738866</td>\n",
       "      <td>1.111529</td>\n",
       "      <td>0.959117</td>\n",
       "      <td>-0.674378</td>\n",
       "      <td>1.222177</td>\n",
       "    </tr>\n",
       "    <tr>\n",
       "      <th>998</th>\n",
       "      <td>1.799623</td>\n",
       "      <td>1.154692</td>\n",
       "      <td>2.490837</td>\n",
       "      <td>1.069567</td>\n",
       "      <td>0.596254</td>\n",
       "    </tr>\n",
       "    <tr>\n",
       "      <th>999</th>\n",
       "      <td>-0.853375</td>\n",
       "      <td>1.386891</td>\n",
       "      <td>1.052438</td>\n",
       "      <td>-0.143710</td>\n",
       "      <td>-1.384420</td>\n",
       "    </tr>\n",
       "  </tbody>\n",
       "</table>\n",
       "<p>1000 rows × 5 columns</p>\n",
       "</div>"
      ],
      "text/plain": [
       "           x0        x1        x2        x3        x4\n",
       "0   -1.418654  0.120554 -0.746230  0.686243 -0.833859\n",
       "1   -1.331029  0.569770 -0.873070 -1.020526 -0.922058\n",
       "2   -1.119456 -0.487617 -0.432181 -0.250969 -3.260397\n",
       "3   -0.849860 -1.278822 -1.672980 -2.587599  0.591868\n",
       "4   -1.409522 -3.253269 -1.041908 -3.747548 -3.305862\n",
       "..        ...       ...       ...       ...       ...\n",
       "995  0.293434  0.382182 -0.398677 -1.318776 -0.199938\n",
       "996 -0.227366 -2.242093 -1.841319 -1.429256 -1.679893\n",
       "997  2.738866  1.111529  0.959117 -0.674378  1.222177\n",
       "998  1.799623  1.154692  2.490837  1.069567  0.596254\n",
       "999 -0.853375  1.386891  1.052438 -0.143710 -1.384420\n",
       "\n",
       "[1000 rows x 5 columns]"
      ]
     },
     "execution_count": 5,
     "metadata": {},
     "output_type": "execute_result"
    }
   ],
   "source": [
    "n = 1000\n",
    "e = lambda n: np.random.laplace(0, 1, n)\n",
    "x3 = e(n)\n",
    "x2 = 0.3*x3 + e(n)\n",
    "x1 = 0.3*x3 + 0.3*x2 + e(n)\n",
    "x0 = 0.3*x2 + 0.3*x1 + e(n)\n",
    "x4 = 0.3*x1 + 0.3*x0 + e(n)\n",
    "X = pd.DataFrame(np.array([x0, x1, x2, x3, x4]).T ,columns=['x0', 'x1', 'x2', 'x3', 'x4'])\n",
    "#X.head()\n",
    "X"
   ]
  },
  {
   "cell_type": "code",
   "execution_count": 6,
   "metadata": {
    "ExecuteTime": {
     "end_time": "2019-09-09T02:01:39.420171Z",
     "start_time": "2019-09-09T02:01:39.165610Z"
    }
   },
   "outputs": [
    {
     "data": {
      "image/svg+xml": [
       "<?xml version=\"1.0\" encoding=\"UTF-8\" standalone=\"no\"?>\n",
       "<!DOCTYPE svg PUBLIC \"-//W3C//DTD SVG 1.1//EN\"\n",
       " \"http://www.w3.org/Graphics/SVG/1.1/DTD/svg11.dtd\">\n",
       "<!-- Generated by graphviz version 11.0.0 (20240428.1522)\n",
       " -->\n",
       "<!-- Pages: 1 -->\n",
       "<svg width=\"127pt\" height=\"395pt\"\n",
       " viewBox=\"0.00 0.00 127.00 395.00\" xmlns=\"http://www.w3.org/2000/svg\" xmlns:xlink=\"http://www.w3.org/1999/xlink\">\n",
       "<g id=\"graph0\" class=\"graph\" transform=\"scale(1 1) rotate(0) translate(4 391)\">\n",
       "<polygon fill=\"white\" stroke=\"none\" points=\"-4,4 -4,-391 123,-391 123,4 -4,4\"/>\n",
       "<!-- x0 -->\n",
       "<g id=\"node1\" class=\"node\">\n",
       "<title>x0</title>\n",
       "<ellipse fill=\"none\" stroke=\"black\" cx=\"92\" cy=\"-105.75\" rx=\"27\" ry=\"18\"/>\n",
       "<text text-anchor=\"middle\" x=\"92\" y=\"-100.33\" font-family=\"Times New Roman,serif\" font-size=\"14.00\">x0</text>\n",
       "</g>\n",
       "<!-- x4 -->\n",
       "<g id=\"node5\" class=\"node\">\n",
       "<title>x4</title>\n",
       "<ellipse fill=\"none\" stroke=\"black\" cx=\"39\" cy=\"-18\" rx=\"27\" ry=\"18\"/>\n",
       "<text text-anchor=\"middle\" x=\"39\" y=\"-12.57\" font-family=\"Times New Roman,serif\" font-size=\"14.00\">x4</text>\n",
       "</g>\n",
       "<!-- x0&#45;&gt;x4 -->\n",
       "<g id=\"edge6\" class=\"edge\">\n",
       "<title>x0&#45;&gt;x4</title>\n",
       "<path fill=\"none\" stroke=\"black\" d=\"M82.03,-88.62C74.41,-76.28 63.74,-59.03 54.94,-44.78\"/>\n",
       "<polygon fill=\"black\" stroke=\"black\" points=\"57.95,-43.01 49.72,-36.34 52,-46.69 57.95,-43.01\"/>\n",
       "<text text-anchor=\"middle\" x=\"82\" y=\"-56.45\" font-family=\"Times New Roman,serif\" font-size=\"14.00\">0.30</text>\n",
       "</g>\n",
       "<!-- x1 -->\n",
       "<g id=\"node2\" class=\"node\">\n",
       "<title>x1</title>\n",
       "<ellipse fill=\"none\" stroke=\"black\" cx=\"27\" cy=\"-193.5\" rx=\"27\" ry=\"18\"/>\n",
       "<text text-anchor=\"middle\" x=\"27\" y=\"-188.07\" font-family=\"Times New Roman,serif\" font-size=\"14.00\">x1</text>\n",
       "</g>\n",
       "<!-- x1&#45;&gt;x0 -->\n",
       "<g id=\"edge1\" class=\"edge\">\n",
       "<title>x1&#45;&gt;x0</title>\n",
       "<path fill=\"none\" stroke=\"black\" d=\"M35.22,-176.29C40.77,-165.98 48.6,-152.59 57,-141.75 60.44,-137.31 64.4,-132.86 68.4,-128.7\"/>\n",
       "<polygon fill=\"black\" stroke=\"black\" points=\"70.81,-131.24 75.41,-121.7 65.86,-126.28 70.81,-131.24\"/>\n",
       "<text text-anchor=\"middle\" x=\"69\" y=\"-144.2\" font-family=\"Times New Roman,serif\" font-size=\"14.00\">0.30</text>\n",
       "</g>\n",
       "<!-- x1&#45;&gt;x4 -->\n",
       "<g id=\"edge7\" class=\"edge\">\n",
       "<title>x1&#45;&gt;x4</title>\n",
       "<path fill=\"none\" stroke=\"black\" d=\"M27.55,-175.06C28.26,-154.26 29.71,-118.43 32,-87.75 32.99,-74.56 34.42,-59.98 35.74,-47.65\"/>\n",
       "<polygon fill=\"black\" stroke=\"black\" points=\"39.21,-48.04 36.82,-37.72 32.26,-47.28 39.21,-48.04\"/>\n",
       "<text text-anchor=\"middle\" x=\"44\" y=\"-100.33\" font-family=\"Times New Roman,serif\" font-size=\"14.00\">0.30</text>\n",
       "</g>\n",
       "<!-- x2 -->\n",
       "<g id=\"node3\" class=\"node\">\n",
       "<title>x2</title>\n",
       "<ellipse fill=\"none\" stroke=\"black\" cx=\"92\" cy=\"-281.25\" rx=\"27\" ry=\"18\"/>\n",
       "<text text-anchor=\"middle\" x=\"92\" y=\"-275.82\" font-family=\"Times New Roman,serif\" font-size=\"14.00\">x2</text>\n",
       "</g>\n",
       "<!-- x2&#45;&gt;x0 -->\n",
       "<g id=\"edge2\" class=\"edge\">\n",
       "<title>x2&#45;&gt;x0</title>\n",
       "<path fill=\"none\" stroke=\"black\" d=\"M92,-262.98C92,-233.18 92,-171.8 92,-135.48\"/>\n",
       "<polygon fill=\"black\" stroke=\"black\" points=\"95.5,-135.72 92,-125.72 88.5,-135.72 95.5,-135.72\"/>\n",
       "<text text-anchor=\"middle\" x=\"104\" y=\"-188.07\" font-family=\"Times New Roman,serif\" font-size=\"14.00\">0.30</text>\n",
       "</g>\n",
       "<!-- x2&#45;&gt;x1 -->\n",
       "<g id=\"edge3\" class=\"edge\">\n",
       "<title>x2&#45;&gt;x1</title>\n",
       "<path fill=\"none\" stroke=\"black\" d=\"M76.49,-266.37C70.07,-260.23 62.79,-252.72 57,-245.25 51.09,-237.63 45.47,-228.74 40.72,-220.56\"/>\n",
       "<polygon fill=\"black\" stroke=\"black\" points=\"43.89,-219.05 35.96,-212.03 37.78,-222.47 43.89,-219.05\"/>\n",
       "<text text-anchor=\"middle\" x=\"69\" y=\"-231.95\" font-family=\"Times New Roman,serif\" font-size=\"14.00\">0.30</text>\n",
       "</g>\n",
       "<!-- x3 -->\n",
       "<g id=\"node4\" class=\"node\">\n",
       "<title>x3</title>\n",
       "<ellipse fill=\"none\" stroke=\"black\" cx=\"39\" cy=\"-369\" rx=\"27\" ry=\"18\"/>\n",
       "<text text-anchor=\"middle\" x=\"39\" y=\"-363.57\" font-family=\"Times New Roman,serif\" font-size=\"14.00\">x3</text>\n",
       "</g>\n",
       "<!-- x3&#45;&gt;x1 -->\n",
       "<g id=\"edge4\" class=\"edge\">\n",
       "<title>x3&#45;&gt;x1</title>\n",
       "<path fill=\"none\" stroke=\"black\" d=\"M36.99,-350.79C35.43,-336.9 33.31,-316.84 32,-299.25 30.08,-273.6 28.76,-244.36 27.96,-223.3\"/>\n",
       "<polygon fill=\"black\" stroke=\"black\" points=\"31.46,-223.32 27.6,-213.45 24.47,-223.57 31.46,-223.32\"/>\n",
       "<text text-anchor=\"middle\" x=\"44\" y=\"-275.82\" font-family=\"Times New Roman,serif\" font-size=\"14.00\">0.30</text>\n",
       "</g>\n",
       "<!-- x3&#45;&gt;x2 -->\n",
       "<g id=\"edge5\" class=\"edge\">\n",
       "<title>x3&#45;&gt;x2</title>\n",
       "<path fill=\"none\" stroke=\"black\" d=\"M48.97,-351.87C56.59,-339.53 67.26,-322.28 76.06,-308.03\"/>\n",
       "<polygon fill=\"black\" stroke=\"black\" points=\"79,-309.94 81.28,-299.59 73.05,-306.26 79,-309.94\"/>\n",
       "<text text-anchor=\"middle\" x=\"82\" y=\"-319.7\" font-family=\"Times New Roman,serif\" font-size=\"14.00\">0.30</text>\n",
       "</g>\n",
       "</g>\n",
       "</svg>\n"
      ],
      "text/plain": [
       "<graphviz.graphs.Digraph at 0x2a6cfa0ee90>"
      ]
     },
     "execution_count": 6,
     "metadata": {},
     "output_type": "execute_result"
    }
   ],
   "source": [
    "m = np.array([[0.0, 0.3, 0.3, 0.0, 0.0],\n",
    "              [0.0, 0.0, 0.3, 0.3, 0.0],\n",
    "              [0.0, 0.0, 0.0, 0.3, 0.0],\n",
    "              [0.0, 0.0, 0.0, 0.0, 0.0],\n",
    "              [0.3, 0.3, 0.0, 0.0, 0.0]])\n",
    "\n",
    "make_dot(m)"
   ]
  },
  {
   "cell_type": "markdown",
   "metadata": {},
   "source": [
    "## Causal Discovery\n",
    "To run causal discovery, we create a `DirectLiNGAM` object by specifying 'kernel' in the `measure` parameter. Then, we call the `fit` method. "
   ]
  },
  {
   "cell_type": "code",
   "execution_count": 7,
   "metadata": {
    "ExecuteTime": {
     "end_time": "2019-09-09T02:01:39.557802Z",
     "start_time": "2019-09-09T02:01:39.423164Z"
    }
   },
   "outputs": [
    {
     "ename": "KeyboardInterrupt",
     "evalue": "",
     "output_type": "error",
     "traceback": [
      "\u001b[1;31m---------------------------------------------------------------------------\u001b[0m",
      "\u001b[1;31mKeyboardInterrupt\u001b[0m                         Traceback (most recent call last)",
      "Cell \u001b[1;32mIn[7], line 2\u001b[0m\n\u001b[0;32m      1\u001b[0m model \u001b[38;5;241m=\u001b[39m lingam\u001b[38;5;241m.\u001b[39mDirectLiNGAM(measure\u001b[38;5;241m=\u001b[39m\u001b[38;5;124m'\u001b[39m\u001b[38;5;124mkernel\u001b[39m\u001b[38;5;124m'\u001b[39m)\n\u001b[1;32m----> 2\u001b[0m \u001b[43mmodel\u001b[49m\u001b[38;5;241;43m.\u001b[39;49m\u001b[43mfit\u001b[49m\u001b[43m(\u001b[49m\u001b[43mX\u001b[49m\u001b[43m)\u001b[49m\n",
      "File \u001b[1;32mD:\\python\\Lib\\site-packages\\lingam\\direct_lingam.py:98\u001b[0m, in \u001b[0;36mDirectLiNGAM.fit\u001b[1;34m(self, X)\u001b[0m\n\u001b[0;32m     96\u001b[0m \u001b[38;5;28;01mfor\u001b[39;00m _ \u001b[38;5;129;01min\u001b[39;00m \u001b[38;5;28mrange\u001b[39m(n_features):\n\u001b[0;32m     97\u001b[0m     \u001b[38;5;28;01mif\u001b[39;00m \u001b[38;5;28mself\u001b[39m\u001b[38;5;241m.\u001b[39m_measure \u001b[38;5;241m==\u001b[39m \u001b[38;5;124m\"\u001b[39m\u001b[38;5;124mkernel\u001b[39m\u001b[38;5;124m\"\u001b[39m:\n\u001b[1;32m---> 98\u001b[0m         m \u001b[38;5;241m=\u001b[39m \u001b[38;5;28;43mself\u001b[39;49m\u001b[38;5;241;43m.\u001b[39;49m\u001b[43m_search_causal_order_kernel\u001b[49m\u001b[43m(\u001b[49m\u001b[43mX_\u001b[49m\u001b[43m,\u001b[49m\u001b[43m \u001b[49m\u001b[43mU\u001b[49m\u001b[43m)\u001b[49m\n\u001b[0;32m     99\u001b[0m     \u001b[38;5;28;01melse\u001b[39;00m:\n\u001b[0;32m    100\u001b[0m         m \u001b[38;5;241m=\u001b[39m \u001b[38;5;28mself\u001b[39m\u001b[38;5;241m.\u001b[39m_search_causal_order(X_, U)\n",
      "File \u001b[1;32mD:\\python\\Lib\\site-packages\\lingam\\direct_lingam.py:278\u001b[0m, in \u001b[0;36mDirectLiNGAM._search_causal_order_kernel\u001b[1;34m(self, X, U)\u001b[0m\n\u001b[0;32m    272\u001b[0m         \u001b[38;5;28;01mif\u001b[39;00m i \u001b[38;5;241m!=\u001b[39m j:\n\u001b[0;32m    273\u001b[0m             ri_j \u001b[38;5;241m=\u001b[39m (\n\u001b[0;32m    274\u001b[0m                 X[:, i]\n\u001b[0;32m    275\u001b[0m                 \u001b[38;5;28;01mif\u001b[39;00m j \u001b[38;5;129;01min\u001b[39;00m Vj \u001b[38;5;129;01mand\u001b[39;00m i \u001b[38;5;129;01min\u001b[39;00m Uc\n\u001b[0;32m    276\u001b[0m                 \u001b[38;5;28;01melse\u001b[39;00m \u001b[38;5;28mself\u001b[39m\u001b[38;5;241m.\u001b[39m_residual(X[:, i], X[:, j])\n\u001b[0;32m    277\u001b[0m             )\n\u001b[1;32m--> 278\u001b[0m             Tkernel \u001b[38;5;241m+\u001b[39m\u001b[38;5;241m=\u001b[39m \u001b[38;5;28;43mself\u001b[39;49m\u001b[38;5;241;43m.\u001b[39;49m\u001b[43m_mutual_information\u001b[49m\u001b[43m(\u001b[49m\u001b[43mX\u001b[49m\u001b[43m[\u001b[49m\u001b[43m:\u001b[49m\u001b[43m,\u001b[49m\u001b[43m \u001b[49m\u001b[43mj\u001b[49m\u001b[43m]\u001b[49m\u001b[43m,\u001b[49m\u001b[43m \u001b[49m\u001b[43mri_j\u001b[49m\u001b[43m,\u001b[49m\u001b[43m \u001b[49m\u001b[43mparam\u001b[49m\u001b[43m)\u001b[49m\n\u001b[0;32m    279\u001b[0m     Tkernels\u001b[38;5;241m.\u001b[39mappend(Tkernel)\n\u001b[0;32m    281\u001b[0m \u001b[38;5;28;01mreturn\u001b[39;00m Uc[np\u001b[38;5;241m.\u001b[39margmin(Tkernels)]\n",
      "File \u001b[1;32mD:\\python\\Lib\\site-packages\\lingam\\direct_lingam.py:252\u001b[0m, in \u001b[0;36mDirectLiNGAM._mutual_information\u001b[1;34m(self, x1, x2, param)\u001b[0m\n\u001b[0;32m    247\u001b[0m K_kappa \u001b[38;5;241m=\u001b[39m np\u001b[38;5;241m.\u001b[39mr_[np\u001b[38;5;241m.\u001b[39mc_[tmp1 \u001b[38;5;241m@\u001b[39m tmp1, K1 \u001b[38;5;241m@\u001b[39m K2], np\u001b[38;5;241m.\u001b[39mc_[K2 \u001b[38;5;241m@\u001b[39m K1, tmp2 \u001b[38;5;241m@\u001b[39m tmp2]]\n\u001b[0;32m    248\u001b[0m D_kappa \u001b[38;5;241m=\u001b[39m np\u001b[38;5;241m.\u001b[39mr_[\n\u001b[0;32m    249\u001b[0m     np\u001b[38;5;241m.\u001b[39mc_[tmp1 \u001b[38;5;241m@\u001b[39m tmp1, np\u001b[38;5;241m.\u001b[39mzeros([n, n])], np\u001b[38;5;241m.\u001b[39mc_[np\u001b[38;5;241m.\u001b[39mzeros([n, n]), tmp2 \u001b[38;5;241m@\u001b[39m tmp2]\n\u001b[0;32m    250\u001b[0m ]\n\u001b[1;32m--> 252\u001b[0m sigma_K \u001b[38;5;241m=\u001b[39m \u001b[43mnp\u001b[49m\u001b[38;5;241;43m.\u001b[39;49m\u001b[43mlinalg\u001b[49m\u001b[38;5;241;43m.\u001b[39;49m\u001b[43msvd\u001b[49m\u001b[43m(\u001b[49m\u001b[43mK_kappa\u001b[49m\u001b[43m,\u001b[49m\u001b[43m \u001b[49m\u001b[43mcompute_uv\u001b[49m\u001b[38;5;241;43m=\u001b[39;49m\u001b[38;5;28;43;01mFalse\u001b[39;49;00m\u001b[43m)\u001b[49m\n\u001b[0;32m    253\u001b[0m sigma_D \u001b[38;5;241m=\u001b[39m np\u001b[38;5;241m.\u001b[39mlinalg\u001b[38;5;241m.\u001b[39msvd(D_kappa, compute_uv\u001b[38;5;241m=\u001b[39m\u001b[38;5;28;01mFalse\u001b[39;00m)\n\u001b[0;32m    255\u001b[0m \u001b[38;5;28;01mreturn\u001b[39;00m (\u001b[38;5;241m-\u001b[39m\u001b[38;5;241m1\u001b[39m \u001b[38;5;241m/\u001b[39m \u001b[38;5;241m2\u001b[39m) \u001b[38;5;241m*\u001b[39m (np\u001b[38;5;241m.\u001b[39msum(np\u001b[38;5;241m.\u001b[39mlog(sigma_K)) \u001b[38;5;241m-\u001b[39m np\u001b[38;5;241m.\u001b[39msum(np\u001b[38;5;241m.\u001b[39mlog(sigma_D)))\n",
      "File \u001b[1;32mD:\\python\\Lib\\site-packages\\numpy\\linalg\\linalg.py:1693\u001b[0m, in \u001b[0;36msvd\u001b[1;34m(a, full_matrices, compute_uv, hermitian)\u001b[0m\n\u001b[0;32m   1690\u001b[0m     gufunc \u001b[38;5;241m=\u001b[39m _umath_linalg\u001b[38;5;241m.\u001b[39msvd_n\n\u001b[0;32m   1692\u001b[0m signature \u001b[38;5;241m=\u001b[39m \u001b[38;5;124m'\u001b[39m\u001b[38;5;124mD->d\u001b[39m\u001b[38;5;124m'\u001b[39m \u001b[38;5;28;01mif\u001b[39;00m isComplexType(t) \u001b[38;5;28;01melse\u001b[39;00m \u001b[38;5;124m'\u001b[39m\u001b[38;5;124md->d\u001b[39m\u001b[38;5;124m'\u001b[39m\n\u001b[1;32m-> 1693\u001b[0m s \u001b[38;5;241m=\u001b[39m \u001b[43mgufunc\u001b[49m\u001b[43m(\u001b[49m\u001b[43ma\u001b[49m\u001b[43m,\u001b[49m\u001b[43m \u001b[49m\u001b[43msignature\u001b[49m\u001b[38;5;241;43m=\u001b[39;49m\u001b[43msignature\u001b[49m\u001b[43m,\u001b[49m\u001b[43m \u001b[49m\u001b[43mextobj\u001b[49m\u001b[38;5;241;43m=\u001b[39;49m\u001b[43mextobj\u001b[49m\u001b[43m)\u001b[49m\n\u001b[0;32m   1694\u001b[0m s \u001b[38;5;241m=\u001b[39m s\u001b[38;5;241m.\u001b[39mastype(_realType(result_t), copy\u001b[38;5;241m=\u001b[39m\u001b[38;5;28;01mFalse\u001b[39;00m)\n\u001b[0;32m   1695\u001b[0m \u001b[38;5;28;01mreturn\u001b[39;00m s\n",
      "\u001b[1;31mKeyboardInterrupt\u001b[0m: "
     ]
    }
   ],
   "source": [
    "model = lingam.DirectLiNGAM(measure='kernel')\n",
    "model.fit(X)"
   ]
  },
  {
   "cell_type": "markdown",
   "metadata": {},
   "source": [
    "Using the `causal_order_` properties, we can see the causal ordering as a result of the causal discovery."
   ]
  },
  {
   "cell_type": "code",
   "execution_count": 5,
   "metadata": {
    "ExecuteTime": {
     "end_time": "2019-09-09T02:01:39.568772Z",
     "start_time": "2019-09-09T02:01:39.560796Z"
    }
   },
   "outputs": [
    {
     "data": {
      "text/plain": [
       "[3, 2, 1, 0, 4]"
      ]
     },
     "execution_count": 5,
     "metadata": {},
     "output_type": "execute_result"
    }
   ],
   "source": [
    "model.causal_order_"
   ]
  },
  {
   "cell_type": "markdown",
   "metadata": {
    "ExecuteTime": {
     "end_time": "2019-09-09T01:24:30.429100Z",
     "start_time": "2019-09-09T01:24:30.422118Z"
    }
   },
   "source": [
    "Also, using the `adjacency_matrix_` properties, we can see the adjacency matrix as a result of the causal discovery."
   ]
  },
  {
   "cell_type": "code",
   "execution_count": 6,
   "metadata": {
    "ExecuteTime": {
     "end_time": "2019-09-09T02:01:39.583732Z",
     "start_time": "2019-09-09T02:01:39.574757Z"
    }
   },
   "outputs": [
    {
     "data": {
      "text/plain": [
       "array([[0.   , 0.34 , 0.273, 0.   , 0.   ],\n",
       "       [0.   , 0.   , 0.304, 0.275, 0.   ],\n",
       "       [0.   , 0.   , 0.   , 0.261, 0.   ],\n",
       "       [0.   , 0.   , 0.   , 0.   , 0.   ],\n",
       "       [0.26 , 0.239, 0.   , 0.   , 0.   ]])"
      ]
     },
     "execution_count": 6,
     "metadata": {},
     "output_type": "execute_result"
    }
   ],
   "source": [
    "model.adjacency_matrix_"
   ]
  },
  {
   "cell_type": "markdown",
   "metadata": {},
   "source": [
    "We can draw a causal graph by utility funciton."
   ]
  },
  {
   "cell_type": "code",
   "execution_count": 7,
   "metadata": {
    "ExecuteTime": {
     "end_time": "2019-09-09T02:01:39.863981Z",
     "start_time": "2019-09-09T02:01:39.589716Z"
    }
   },
   "outputs": [
    {
     "data": {
      "image/svg+xml": [
       "<?xml version=\"1.0\" encoding=\"UTF-8\" standalone=\"no\"?>\r\n",
       "<!DOCTYPE svg PUBLIC \"-//W3C//DTD SVG 1.1//EN\"\r\n",
       " \"http://www.w3.org/Graphics/SVG/1.1/DTD/svg11.dtd\">\r\n",
       "<!-- Generated by graphviz version 2.38.0 (20140413.2041)\r\n",
       " -->\r\n",
       "<!-- Title: %3 Pages: 1 -->\r\n",
       "<svg width=\"127pt\" height=\"392pt\"\r\n",
       " viewBox=\"0.00 0.00 127.00 392.00\" xmlns=\"http://www.w3.org/2000/svg\" xmlns:xlink=\"http://www.w3.org/1999/xlink\">\r\n",
       "<g id=\"graph0\" class=\"graph\" transform=\"scale(1 1) rotate(0) translate(4 388)\">\r\n",
       "<title>%3</title>\r\n",
       "<polygon fill=\"white\" stroke=\"none\" points=\"-4,4 -4,-388 123,-388 123,4 -4,4\"/>\r\n",
       "<!-- x0 -->\r\n",
       "<g id=\"node1\" class=\"node\"><title>x0</title>\r\n",
       "<ellipse fill=\"none\" stroke=\"black\" cx=\"92\" cy=\"-105\" rx=\"27\" ry=\"18\"/>\r\n",
       "<text text-anchor=\"middle\" x=\"92\" y=\"-101.3\" font-family=\"Times New Roman,serif\" font-size=\"14.00\">x0</text>\r\n",
       "</g>\r\n",
       "<!-- x4 -->\r\n",
       "<g id=\"node5\" class=\"node\"><title>x4</title>\r\n",
       "<ellipse fill=\"none\" stroke=\"black\" cx=\"47\" cy=\"-18\" rx=\"27\" ry=\"18\"/>\r\n",
       "<text text-anchor=\"middle\" x=\"47\" y=\"-14.3\" font-family=\"Times New Roman,serif\" font-size=\"14.00\">x4</text>\r\n",
       "</g>\r\n",
       "<!-- x0&#45;&gt;x4 -->\r\n",
       "<g id=\"edge6\" class=\"edge\"><title>x0&#45;&gt;x4</title>\r\n",
       "<path fill=\"none\" stroke=\"black\" d=\"M83.3235,-87.6111C76.8492,-75.3817 67.8815,-58.4429 60.4767,-44.456\"/>\r\n",
       "<polygon fill=\"black\" stroke=\"black\" points=\"63.422,-42.5388 55.6498,-35.3385 57.2355,-45.8141 63.422,-42.5388\"/>\r\n",
       "<text text-anchor=\"middle\" x=\"84.5\" y=\"-57.8\" font-family=\"Times New Roman,serif\" font-size=\"14.00\">0.26</text>\r\n",
       "</g>\r\n",
       "<!-- x1 -->\r\n",
       "<g id=\"node2\" class=\"node\"><title>x1</title>\r\n",
       "<ellipse fill=\"none\" stroke=\"black\" cx=\"27\" cy=\"-192\" rx=\"27\" ry=\"18\"/>\r\n",
       "<text text-anchor=\"middle\" x=\"27\" y=\"-188.3\" font-family=\"Times New Roman,serif\" font-size=\"14.00\">x1</text>\r\n",
       "</g>\r\n",
       "<!-- x1&#45;&gt;x0 -->\r\n",
       "<g id=\"edge1\" class=\"edge\"><title>x1&#45;&gt;x0</title>\r\n",
       "<path fill=\"none\" stroke=\"black\" d=\"M35.0856,-174.522C40.3965,-164.411 47.8521,-151.444 56,-141 59.7785,-136.157 64.2046,-131.328 68.6355,-126.873\"/>\r\n",
       "<polygon fill=\"black\" stroke=\"black\" points=\"71.2123,-129.25 75.9834,-119.79 66.3544,-124.21 71.2123,-129.25\"/>\r\n",
       "<text text-anchor=\"middle\" x=\"68.5\" y=\"-144.8\" font-family=\"Times New Roman,serif\" font-size=\"14.00\">0.34</text>\r\n",
       "</g>\r\n",
       "<!-- x1&#45;&gt;x4 -->\r\n",
       "<g id=\"edge7\" class=\"edge\"><title>x1&#45;&gt;x4</title>\r\n",
       "<path fill=\"none\" stroke=\"black\" d=\"M26.6537,-173.981C26.4632,-153.313 26.8729,-117.439 31,-87 32.8714,-73.1981 36.2837,-58.0945 39.4778,-45.6348\"/>\r\n",
       "<polygon fill=\"black\" stroke=\"black\" points=\"42.8851,-46.4406 42.0709,-35.8771 36.1199,-44.6427 42.8851,-46.4406\"/>\r\n",
       "<text text-anchor=\"middle\" x=\"43.5\" y=\"-101.3\" font-family=\"Times New Roman,serif\" font-size=\"14.00\">0.24</text>\r\n",
       "</g>\r\n",
       "<!-- x2 -->\r\n",
       "<g id=\"node3\" class=\"node\"><title>x2</title>\r\n",
       "<ellipse fill=\"none\" stroke=\"black\" cx=\"92\" cy=\"-279\" rx=\"27\" ry=\"18\"/>\r\n",
       "<text text-anchor=\"middle\" x=\"92\" y=\"-275.3\" font-family=\"Times New Roman,serif\" font-size=\"14.00\">x2</text>\r\n",
       "</g>\r\n",
       "<!-- x2&#45;&gt;x0 -->\r\n",
       "<g id=\"edge2\" class=\"edge\"><title>x2&#45;&gt;x0</title>\r\n",
       "<path fill=\"none\" stroke=\"black\" d=\"M92,-260.879C92,-231.001 92,-169.113 92,-133.274\"/>\r\n",
       "<polygon fill=\"black\" stroke=\"black\" points=\"95.5001,-133.052 92,-123.052 88.5001,-133.052 95.5001,-133.052\"/>\r\n",
       "<text text-anchor=\"middle\" x=\"104.5\" y=\"-188.3\" font-family=\"Times New Roman,serif\" font-size=\"14.00\">0.27</text>\r\n",
       "</g>\r\n",
       "<!-- x2&#45;&gt;x1 -->\r\n",
       "<g id=\"edge3\" class=\"edge\"><title>x2&#45;&gt;x1</title>\r\n",
       "<path fill=\"none\" stroke=\"black\" d=\"M75.9834,-264.21C69.3743,-258.085 61.8981,-250.56 56,-243 50.08,-235.412 44.5255,-226.492 39.8936,-218.303\"/>\r\n",
       "<polygon fill=\"black\" stroke=\"black\" points=\"42.9432,-216.585 35.0856,-209.478 36.7963,-219.933 42.9432,-216.585\"/>\r\n",
       "<text text-anchor=\"middle\" x=\"68.5\" y=\"-231.8\" font-family=\"Times New Roman,serif\" font-size=\"14.00\">0.30</text>\r\n",
       "</g>\r\n",
       "<!-- x3 -->\r\n",
       "<g id=\"node4\" class=\"node\"><title>x3</title>\r\n",
       "<ellipse fill=\"none\" stroke=\"black\" cx=\"47\" cy=\"-366\" rx=\"27\" ry=\"18\"/>\r\n",
       "<text text-anchor=\"middle\" x=\"47\" y=\"-362.3\" font-family=\"Times New Roman,serif\" font-size=\"14.00\">x3</text>\r\n",
       "</g>\r\n",
       "<!-- x3&#45;&gt;x1 -->\r\n",
       "<g id=\"edge4\" class=\"edge\"><title>x3&#45;&gt;x1</title>\r\n",
       "<path fill=\"none\" stroke=\"black\" d=\"M42.0709,-348.123C38.3154,-334.466 33.3954,-314.666 31,-297 27.4855,-271.08 26.6667,-241.218 26.6187,-220.161\"/>\r\n",
       "<polygon fill=\"black\" stroke=\"black\" points=\"30.1191,-220.031 26.6537,-210.019 23.1191,-220.007 30.1191,-220.031\"/>\r\n",
       "<text text-anchor=\"middle\" x=\"43.5\" y=\"-275.3\" font-family=\"Times New Roman,serif\" font-size=\"14.00\">0.28</text>\r\n",
       "</g>\r\n",
       "<!-- x3&#45;&gt;x2 -->\r\n",
       "<g id=\"edge5\" class=\"edge\"><title>x3&#45;&gt;x2</title>\r\n",
       "<path fill=\"none\" stroke=\"black\" d=\"M55.6765,-348.611C62.1508,-336.382 71.1185,-319.443 78.5233,-305.456\"/>\r\n",
       "<polygon fill=\"black\" stroke=\"black\" points=\"81.7645,-306.814 83.3502,-296.339 75.578,-303.539 81.7645,-306.814\"/>\r\n",
       "<text text-anchor=\"middle\" x=\"84.5\" y=\"-318.8\" font-family=\"Times New Roman,serif\" font-size=\"14.00\">0.26</text>\r\n",
       "</g>\r\n",
       "</g>\r\n",
       "</svg>\r\n"
      ],
      "text/plain": [
       "<graphviz.dot.Digraph at 0x1bba0b46a20>"
      ]
     },
     "execution_count": 7,
     "metadata": {},
     "output_type": "execute_result"
    }
   ],
   "source": [
    "make_dot(model.adjacency_matrix_)"
   ]
  },
  {
   "cell_type": "code",
   "execution_count": null,
   "metadata": {},
   "outputs": [],
   "source": []
  }
 ],
 "metadata": {
  "kernelspec": {
   "display_name": "Python 3 (ipykernel)",
   "language": "python",
   "name": "python3"
  },
  "language_info": {
   "codemirror_mode": {
    "name": "ipython",
    "version": 3
   },
   "file_extension": ".py",
   "mimetype": "text/x-python",
   "name": "python",
   "nbconvert_exporter": "python",
   "pygments_lexer": "ipython3",
   "version": "3.11.3"
  },
  "toc": {
   "base_numbering": 1,
   "nav_menu": {},
   "number_sections": true,
   "sideBar": true,
   "skip_h1_title": false,
   "title_cell": "Table of Contents",
   "title_sidebar": "Contents",
   "toc_cell": false,
   "toc_position": {},
   "toc_section_display": true,
   "toc_window_display": false
  }
 },
 "nbformat": 4,
 "nbformat_minor": 4
}
