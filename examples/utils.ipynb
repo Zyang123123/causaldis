{
 "cells": [
  {
   "cell_type": "markdown",
   "metadata": {},
   "source": [
    "# lingam.utils"
   ]
  },
  {
   "cell_type": "markdown",
   "metadata": {},
   "source": [
    "In this example, we need to import `numpy`, `pandas`, and `lingam`."
   ]
  },
  {
   "cell_type": "code",
   "execution_count": 1,
   "metadata": {
    "ExecuteTime": {
     "end_time": "2021-06-25T06:55:13.343192Z",
     "start_time": "2021-06-25T06:55:08.877776Z"
    }
   },
   "outputs": [],
   "source": [
    "import numpy as np\n",
    "import pandas as pd\n",
    "import graphviz\n",
    "import lingam\n",
    "from lingam.utils import make_dot\n",
    "\n",
    "np.set_printoptions(precision=3, suppress=True)\n",
    "np.random.seed(0)"
   ]
  },
  {
   "cell_type": "markdown",
   "metadata": {},
   "source": [
    "We define utility functions to draw the directed acyclic graph."
   ]
  },
  {
   "cell_type": "code",
   "execution_count": 2,
   "metadata": {
    "ExecuteTime": {
     "end_time": "2021-06-25T06:55:13.379744Z",
     "start_time": "2021-06-25T06:55:13.343192Z"
    }
   },
   "outputs": [],
   "source": [
    "def make_prior_knowledge_graph(prior_knowledge_matrix):\n",
    "    d = graphviz.Digraph(engine='dot')\n",
    "    \n",
    "    labels = [f'x{i}' for i in range(prior_knowledge_matrix.shape[0])]\n",
    "    for label in labels:\n",
    "        d.node(label, label)\n",
    "\n",
    "    dirs = np.where(prior_knowledge_matrix > 0)\n",
    "    for to, from_ in zip(dirs[0], dirs[1]):\n",
    "        d.edge(labels[from_], labels[to])\n",
    "\n",
    "    dirs = np.where(prior_knowledge_matrix < 0)\n",
    "    for to, from_ in zip(dirs[0], dirs[1]):\n",
    "        d.edge(labels[from_], labels[to], style='dashed')\n",
    "    return d"
   ]
  },
  {
   "cell_type": "markdown",
   "metadata": {},
   "source": [
    "## print_causal_directions"
   ]
  },
  {
   "cell_type": "markdown",
   "metadata": {},
   "source": [
    "We create test data consisting of 6 variables."
   ]
  },
  {
   "cell_type": "code",
   "execution_count": 3,
   "metadata": {
    "ExecuteTime": {
     "end_time": "2021-06-25T06:55:13.425622Z",
     "start_time": "2021-06-25T06:55:13.383735Z"
    }
   },
   "outputs": [
    {
     "data": {
      "text/html": [
       "<div>\n",
       "<style scoped>\n",
       "    .dataframe tbody tr th:only-of-type {\n",
       "        vertical-align: middle;\n",
       "    }\n",
       "\n",
       "    .dataframe tbody tr th {\n",
       "        vertical-align: top;\n",
       "    }\n",
       "\n",
       "    .dataframe thead th {\n",
       "        text-align: right;\n",
       "    }\n",
       "</style>\n",
       "<table border=\"1\" class=\"dataframe\">\n",
       "  <thead>\n",
       "    <tr style=\"text-align: right;\">\n",
       "      <th></th>\n",
       "      <th>x0</th>\n",
       "      <th>x1</th>\n",
       "      <th>x2</th>\n",
       "      <th>x3</th>\n",
       "      <th>x4</th>\n",
       "      <th>x5</th>\n",
       "    </tr>\n",
       "  </thead>\n",
       "  <tbody>\n",
       "    <tr>\n",
       "      <th>0</th>\n",
       "      <td>2.394708</td>\n",
       "      <td>15.312359</td>\n",
       "      <td>3.685054</td>\n",
       "      <td>0.548814</td>\n",
       "      <td>15.780259</td>\n",
       "      <td>9.948090</td>\n",
       "    </tr>\n",
       "    <tr>\n",
       "      <th>1</th>\n",
       "      <td>2.325771</td>\n",
       "      <td>16.145216</td>\n",
       "      <td>4.332293</td>\n",
       "      <td>0.715189</td>\n",
       "      <td>14.335879</td>\n",
       "      <td>9.514409</td>\n",
       "    </tr>\n",
       "    <tr>\n",
       "      <th>2</th>\n",
       "      <td>2.197313</td>\n",
       "      <td>15.848718</td>\n",
       "      <td>4.539881</td>\n",
       "      <td>0.602763</td>\n",
       "      <td>14.027410</td>\n",
       "      <td>9.266158</td>\n",
       "    </tr>\n",
       "    <tr>\n",
       "      <th>3</th>\n",
       "      <td>1.672250</td>\n",
       "      <td>13.200354</td>\n",
       "      <td>3.675534</td>\n",
       "      <td>0.544883</td>\n",
       "      <td>10.421554</td>\n",
       "      <td>6.771233</td>\n",
       "    </tr>\n",
       "    <tr>\n",
       "      <th>4</th>\n",
       "      <td>1.282752</td>\n",
       "      <td>11.337503</td>\n",
       "      <td>3.486211</td>\n",
       "      <td>0.423655</td>\n",
       "      <td>7.533376</td>\n",
       "      <td>5.368668</td>\n",
       "    </tr>\n",
       "  </tbody>\n",
       "</table>\n",
       "</div>"
      ],
      "text/plain": [
       "         x0         x1        x2        x3         x4        x5\n",
       "0  2.394708  15.312359  3.685054  0.548814  15.780259  9.948090\n",
       "1  2.325771  16.145216  4.332293  0.715189  14.335879  9.514409\n",
       "2  2.197313  15.848718  4.539881  0.602763  14.027410  9.266158\n",
       "3  1.672250  13.200354  3.675534  0.544883  10.421554  6.771233\n",
       "4  1.282752  11.337503  3.486211  0.423655   7.533376  5.368668"
      ]
     },
     "execution_count": 3,
     "metadata": {},
     "output_type": "execute_result"
    }
   ],
   "source": [
    "x3 = np.random.uniform(size=10000)\n",
    "x0 = 3.0*x3 + np.random.uniform(size=10000)\n",
    "x2 = 6.0*x3 + np.random.uniform(size=10000)\n",
    "x1 = 3.0*x0 + 2.0*x2 + np.random.uniform(size=10000)\n",
    "x5 = 4.0*x0 + np.random.uniform(size=10000)\n",
    "x4 = 8.0*x0 - 1.0*x2 + np.random.uniform(size=10000)\n",
    "X = pd.DataFrame(np.array([x0, x1, x2, x3, x4, x5]).T ,columns=['x0', 'x1', 'x2', 'x3', 'x4', 'x5'])\n",
    "X.head()"
   ]
  },
  {
   "cell_type": "markdown",
   "metadata": {},
   "source": [
    "We run booststrap and get the result."
   ]
  },
  {
   "cell_type": "code",
   "execution_count": 4,
   "metadata": {
    "ExecuteTime": {
     "end_time": "2021-06-25T06:55:38.779808Z",
     "start_time": "2021-06-25T06:55:13.428616Z"
    },
    "scrolled": true
   },
   "outputs": [],
   "source": [
    "model = lingam.DirectLiNGAM()\n",
    "result = model.bootstrap(X, 100)"
   ]
  },
  {
   "cell_type": "markdown",
   "metadata": {},
   "source": [
    "We can get the ranking of the causal directions extracted by `get_causal_direction_counts()` method."
   ]
  },
  {
   "cell_type": "code",
   "execution_count": 5,
   "metadata": {
    "ExecuteTime": {
     "end_time": "2021-06-25T06:55:38.795244Z",
     "start_time": "2021-06-25T06:55:38.779808Z"
    }
   },
   "outputs": [],
   "source": [
    "cdc = result.get_causal_direction_counts(n_directions=8, min_causal_effect=0.01)"
   ]
  },
  {
   "cell_type": "markdown",
   "metadata": {},
   "source": [
    "Then, we import `lingam.utils` and check the results with the `print_causal_directions` function."
   ]
  },
  {
   "cell_type": "code",
   "execution_count": 6,
   "metadata": {
    "ExecuteTime": {
     "end_time": "2021-06-25T06:55:38.809482Z",
     "start_time": "2021-06-25T06:55:38.797238Z"
    }
   },
   "outputs": [
    {
     "name": "stdout",
     "output_type": "stream",
     "text": [
      "x0 <--- x3  (100.0%)\n",
      "x1 <--- x0  (100.0%)\n",
      "x1 <--- x2  (100.0%)\n",
      "x2 <--- x3  (100.0%)\n",
      "x4 <--- x0  (100.0%)\n",
      "x4 <--- x2  (100.0%)\n",
      "x5 <--- x0  (100.0%)\n",
      "x4 <--- x3  (3.0%)\n"
     ]
    }
   ],
   "source": [
    "from lingam.utils import print_causal_directions\n",
    "print_causal_directions(cdc, 100)"
   ]
  },
  {
   "cell_type": "markdown",
   "metadata": {
    "ExecuteTime": {
     "end_time": "2019-11-21T01:40:55.324356Z",
     "start_time": "2019-11-21T01:40:55.318373Z"
    }
   },
   "source": [
    "We can also output by specifying the variable name."
   ]
  },
  {
   "cell_type": "code",
   "execution_count": 7,
   "metadata": {
    "ExecuteTime": {
     "end_time": "2021-06-25T06:55:38.825098Z",
     "start_time": "2021-06-25T06:55:38.809482Z"
    }
   },
   "outputs": [
    {
     "name": "stdout",
     "output_type": "stream",
     "text": [
      "X1 <--- X4  (100.0%)\n",
      "X2 <--- X1  (100.0%)\n",
      "X2 <--- X3  (100.0%)\n",
      "X3 <--- X4  (100.0%)\n",
      "X5 <--- X1  (100.0%)\n",
      "X5 <--- X3  (100.0%)\n",
      "X6 <--- X1  (100.0%)\n",
      "X5 <--- X4  (3.0%)\n"
     ]
    }
   ],
   "source": [
    "labels = ['X1', 'X2', 'X3', 'X4', 'X5', 'X6']\n",
    "print_causal_directions(cdc, 100, labels=labels)"
   ]
  },
  {
   "cell_type": "markdown",
   "metadata": {},
   "source": [
    "## print_dags"
   ]
  },
  {
   "cell_type": "markdown",
   "metadata": {},
   "source": [
    "We use the bootstrap results above to get the ranking of the DAGs extracted."
   ]
  },
  {
   "cell_type": "code",
   "execution_count": 8,
   "metadata": {
    "ExecuteTime": {
     "end_time": "2021-06-25T06:55:38.841942Z",
     "start_time": "2021-06-25T06:55:38.826320Z"
    }
   },
   "outputs": [],
   "source": [
    "dagc = result.get_directed_acyclic_graph_counts(n_dags=3, min_causal_effect=0.01)"
   ]
  },
  {
   "cell_type": "markdown",
   "metadata": {
    "ExecuteTime": {
     "end_time": "2019-11-21T01:44:23.032001Z",
     "start_time": "2019-11-21T01:44:23.025049Z"
    }
   },
   "source": [
    "Then, we import `lingam.utils` and check the results with the `print_dagc` function."
   ]
  },
  {
   "cell_type": "code",
   "execution_count": 9,
   "metadata": {
    "ExecuteTime": {
     "end_time": "2021-06-25T06:55:38.857898Z",
     "start_time": "2021-06-25T06:55:38.841942Z"
    }
   },
   "outputs": [
    {
     "name": "stdout",
     "output_type": "stream",
     "text": [
      "DAG[0]: 90.0%\n",
      "\tx0 <--- x3 \n",
      "\tx1 <--- x0 \n",
      "\tx1 <--- x2 \n",
      "\tx2 <--- x3 \n",
      "\tx4 <--- x0 \n",
      "\tx4 <--- x2 \n",
      "\tx5 <--- x0 \n",
      "DAG[1]: 3.0%\n",
      "\tx0 <--- x3 \n",
      "\tx1 <--- x0 \n",
      "\tx1 <--- x2 \n",
      "\tx2 <--- x3 \n",
      "\tx4 <--- x0 \n",
      "\tx4 <--- x2 \n",
      "\tx4 <--- x3 \n",
      "\tx5 <--- x0 \n",
      "DAG[2]: 2.0%\n",
      "\tx0 <--- x3 \n",
      "\tx1 <--- x0 \n",
      "\tx1 <--- x2 \n",
      "\tx2 <--- x3 \n",
      "\tx4 <--- x0 \n",
      "\tx4 <--- x2 \n",
      "\tx5 <--- x0 \n",
      "\tx5 <--- x3 \n"
     ]
    }
   ],
   "source": [
    "from lingam.utils import print_dagc\n",
    "print_dagc(dagc, 100)"
   ]
  },
  {
   "cell_type": "code",
   "execution_count": 10,
   "metadata": {
    "ExecuteTime": {
     "end_time": "2021-06-25T06:55:38.876016Z",
     "start_time": "2021-06-25T06:55:38.859916Z"
    }
   },
   "outputs": [
    {
     "name": "stdout",
     "output_type": "stream",
     "text": [
      "DAG[0]: 90.0%\n",
      "\tX1 <--- X4 \n",
      "\tX2 <--- X1 \n",
      "\tX2 <--- X3 \n",
      "\tX3 <--- X4 \n",
      "\tX5 <--- X1 \n",
      "\tX5 <--- X3 \n",
      "\tX6 <--- X1 \n",
      "DAG[1]: 3.0%\n",
      "\tX1 <--- X4 \n",
      "\tX2 <--- X1 \n",
      "\tX2 <--- X3 \n",
      "\tX3 <--- X4 \n",
      "\tX5 <--- X1 \n",
      "\tX5 <--- X3 \n",
      "\tX5 <--- X4 \n",
      "\tX6 <--- X1 \n",
      "DAG[2]: 2.0%\n",
      "\tX1 <--- X4 \n",
      "\tX2 <--- X1 \n",
      "\tX2 <--- X3 \n",
      "\tX3 <--- X4 \n",
      "\tX5 <--- X1 \n",
      "\tX5 <--- X3 \n",
      "\tX6 <--- X1 \n",
      "\tX6 <--- X4 \n"
     ]
    }
   ],
   "source": [
    "labels = ['X1', 'X2', 'X3', 'X4', 'X5', 'X6']\n",
    "print_dagc(dagc, 100, labels=labels)"
   ]
  },
  {
   "cell_type": "markdown",
   "metadata": {},
   "source": [
    "## make_prior_knowledge\n",
    "In order to perform causal discovery using prior knowledge of causal relations, `make_prior_knowledge` function that creates a prior knowledge matrix is provided. First, we import `lingam.utils` to use `make_prior_knowledge` function."
   ]
  },
  {
   "cell_type": "code",
   "execution_count": 11,
   "metadata": {
    "ExecuteTime": {
     "end_time": "2021-06-25T06:55:38.891638Z",
     "start_time": "2021-06-25T06:55:38.876016Z"
    }
   },
   "outputs": [],
   "source": [
    "from lingam.utils import make_prior_knowledge"
   ]
  },
  {
   "cell_type": "markdown",
   "metadata": {},
   "source": [
    "### Exogenous variables\n",
    "If the exogenous variable is known, specify the variable index in the `exogenous_variables` argument."
   ]
  },
  {
   "cell_type": "code",
   "execution_count": 12,
   "metadata": {
    "ExecuteTime": {
     "end_time": "2021-06-25T06:55:38.906859Z",
     "start_time": "2021-06-25T06:55:38.891638Z"
    }
   },
   "outputs": [
    {
     "name": "stdout",
     "output_type": "stream",
     "text": [
      "[[-1  0  0]\n",
      " [ 0 -1  0]\n",
      " [-1 -1 -1]]\n"
     ]
    }
   ],
   "source": [
    "pk = make_prior_knowledge(n_variables=3, exogenous_variables=[0, 1])\n",
    "print(pk)"
   ]
  },
  {
   "cell_type": "code",
   "execution_count": 13,
   "metadata": {
    "ExecuteTime": {
     "end_time": "2021-06-25T06:55:39.241135Z",
     "start_time": "2021-06-25T06:55:38.910798Z"
    }
   },
   "outputs": [
    {
     "data": {
      "image/svg+xml": [
       "<?xml version=\"1.0\" encoding=\"UTF-8\" standalone=\"no\"?>\n",
       "<!DOCTYPE svg PUBLIC \"-//W3C//DTD SVG 1.1//EN\"\n",
       " \"http://www.w3.org/Graphics/SVG/1.1/DTD/svg11.dtd\">\n",
       "<!-- Generated by graphviz version 11.0.0 (20240428.1522)\n",
       " -->\n",
       "<!-- Pages: 1 -->\n",
       "<svg width=\"170pt\" height=\"116pt\"\n",
       " viewBox=\"0.00 0.00 170.00 116.00\" xmlns=\"http://www.w3.org/2000/svg\" xmlns:xlink=\"http://www.w3.org/1999/xlink\">\n",
       "<g id=\"graph0\" class=\"graph\" transform=\"scale(1 1) rotate(0) translate(4 112)\">\n",
       "<polygon fill=\"white\" stroke=\"none\" points=\"-4,4 -4,-112 166,-112 166,4 -4,4\"/>\n",
       "<!-- x0 -->\n",
       "<g id=\"node1\" class=\"node\">\n",
       "<title>x0</title>\n",
       "<ellipse fill=\"none\" stroke=\"black\" cx=\"27\" cy=\"-90\" rx=\"27\" ry=\"18\"/>\n",
       "<text text-anchor=\"middle\" x=\"27\" y=\"-84.58\" font-family=\"Times New Roman,serif\" font-size=\"14.00\">x0</text>\n",
       "</g>\n",
       "<!-- x0&#45;&gt;x0 -->\n",
       "<g id=\"edge1\" class=\"edge\">\n",
       "<title>x0&#45;&gt;x0</title>\n",
       "<path fill=\"none\" stroke=\"black\" stroke-dasharray=\"5,2\" d=\"M46.9,-102.43C59.69,-105.68 72,-101.53 72,-90 72,-81.98 66.05,-77.54 58.12,-76.66\"/>\n",
       "<polygon fill=\"black\" stroke=\"black\" points=\"58.09,-73.15 48.4,-77.45 58.65,-80.13 58.09,-73.15\"/>\n",
       "</g>\n",
       "<!-- x2 -->\n",
       "<g id=\"node3\" class=\"node\">\n",
       "<title>x2</title>\n",
       "<ellipse fill=\"none\" stroke=\"black\" cx=\"72\" cy=\"-18\" rx=\"27\" ry=\"18\"/>\n",
       "<text text-anchor=\"middle\" x=\"72\" y=\"-12.57\" font-family=\"Times New Roman,serif\" font-size=\"14.00\">x2</text>\n",
       "</g>\n",
       "<!-- x0&#45;&gt;x2 -->\n",
       "<g id=\"edge3\" class=\"edge\">\n",
       "<title>x0&#45;&gt;x2</title>\n",
       "<path fill=\"none\" stroke=\"black\" stroke-dasharray=\"5,2\" d=\"M37.21,-73.12C42.68,-64.61 49.54,-53.94 55.72,-44.32\"/>\n",
       "<polygon fill=\"black\" stroke=\"black\" points=\"58.55,-46.4 61.01,-36.09 52.66,-42.61 58.55,-46.4\"/>\n",
       "</g>\n",
       "<!-- x1 -->\n",
       "<g id=\"node2\" class=\"node\">\n",
       "<title>x1</title>\n",
       "<ellipse fill=\"none\" stroke=\"black\" cx=\"117\" cy=\"-90\" rx=\"27\" ry=\"18\"/>\n",
       "<text text-anchor=\"middle\" x=\"117\" y=\"-84.58\" font-family=\"Times New Roman,serif\" font-size=\"14.00\">x1</text>\n",
       "</g>\n",
       "<!-- x1&#45;&gt;x1 -->\n",
       "<g id=\"edge2\" class=\"edge\">\n",
       "<title>x1&#45;&gt;x1</title>\n",
       "<path fill=\"none\" stroke=\"black\" stroke-dasharray=\"5,2\" d=\"M136.9,-102.43C149.69,-105.68 162,-101.53 162,-90 162,-81.98 156.05,-77.54 148.12,-76.66\"/>\n",
       "<polygon fill=\"black\" stroke=\"black\" points=\"148.09,-73.15 138.4,-77.45 148.65,-80.13 148.09,-73.15\"/>\n",
       "</g>\n",
       "<!-- x1&#45;&gt;x2 -->\n",
       "<g id=\"edge4\" class=\"edge\">\n",
       "<title>x1&#45;&gt;x2</title>\n",
       "<path fill=\"none\" stroke=\"black\" stroke-dasharray=\"5,2\" d=\"M106.79,-73.12C101.32,-64.61 94.46,-53.94 88.28,-44.32\"/>\n",
       "<polygon fill=\"black\" stroke=\"black\" points=\"91.34,-42.61 82.99,-36.09 85.45,-46.4 91.34,-42.61\"/>\n",
       "</g>\n",
       "<!-- x2&#45;&gt;x2 -->\n",
       "<g id=\"edge5\" class=\"edge\">\n",
       "<title>x2&#45;&gt;x2</title>\n",
       "<path fill=\"none\" stroke=\"black\" stroke-dasharray=\"5,2\" d=\"M91.9,-30.43C104.69,-33.68 117,-29.53 117,-18 117,-9.98 111.05,-5.54 103.12,-4.66\"/>\n",
       "<polygon fill=\"black\" stroke=\"black\" points=\"103.09,-1.15 93.4,-5.45 103.65,-8.13 103.09,-1.15\"/>\n",
       "</g>\n",
       "</g>\n",
       "</svg>\n"
      ],
      "text/plain": [
       "<graphviz.graphs.Digraph at 0x1e1b227f350>"
      ]
     },
     "execution_count": 13,
     "metadata": {},
     "output_type": "execute_result"
    }
   ],
   "source": [
    "make_prior_knowledge_graph(pk)"
   ]
  },
  {
   "cell_type": "markdown",
   "metadata": {},
   "source": [
    "### Sink variables\n",
    "If the sink variable such as the target variable of the predictive model is already known, specify the variable index in the `sink_variables` argument."
   ]
  },
  {
   "cell_type": "code",
   "execution_count": 14,
   "metadata": {
    "ExecuteTime": {
     "end_time": "2021-06-25T06:55:39.256759Z",
     "start_time": "2021-06-25T06:55:39.241135Z"
    }
   },
   "outputs": [
    {
     "name": "stdout",
     "output_type": "stream",
     "text": [
      "[[-1  0  0]\n",
      " [-1 -1  0]\n",
      " [-1  0 -1]]\n"
     ]
    }
   ],
   "source": [
    "pk = make_prior_knowledge(n_variables=3, sink_variables=[1, 2])\n",
    "print(pk)"
   ]
  },
  {
   "cell_type": "code",
   "execution_count": 15,
   "metadata": {
    "ExecuteTime": {
     "end_time": "2021-06-25T06:55:39.612850Z",
     "start_time": "2021-06-25T06:55:39.256759Z"
    }
   },
   "outputs": [
    {
     "data": {
      "image/svg+xml": [
       "<?xml version=\"1.0\" encoding=\"UTF-8\" standalone=\"no\"?>\n",
       "<!DOCTYPE svg PUBLIC \"-//W3C//DTD SVG 1.1//EN\"\n",
       " \"http://www.w3.org/Graphics/SVG/1.1/DTD/svg11.dtd\">\n",
       "<!-- Generated by graphviz version 11.0.0 (20240428.1522)\n",
       " -->\n",
       "<!-- Pages: 1 -->\n",
       "<svg width=\"170pt\" height=\"116pt\"\n",
       " viewBox=\"0.00 0.00 170.00 116.00\" xmlns=\"http://www.w3.org/2000/svg\" xmlns:xlink=\"http://www.w3.org/1999/xlink\">\n",
       "<g id=\"graph0\" class=\"graph\" transform=\"scale(1 1) rotate(0) translate(4 112)\">\n",
       "<polygon fill=\"white\" stroke=\"none\" points=\"-4,4 -4,-112 166,-112 166,4 -4,4\"/>\n",
       "<!-- x0 -->\n",
       "<g id=\"node1\" class=\"node\">\n",
       "<title>x0</title>\n",
       "<ellipse fill=\"none\" stroke=\"black\" cx=\"72\" cy=\"-90\" rx=\"27\" ry=\"18\"/>\n",
       "<text text-anchor=\"middle\" x=\"72\" y=\"-84.58\" font-family=\"Times New Roman,serif\" font-size=\"14.00\">x0</text>\n",
       "</g>\n",
       "<!-- x0&#45;&gt;x0 -->\n",
       "<g id=\"edge1\" class=\"edge\">\n",
       "<title>x0&#45;&gt;x0</title>\n",
       "<path fill=\"none\" stroke=\"black\" stroke-dasharray=\"5,2\" d=\"M91.9,-102.43C104.69,-105.68 117,-101.53 117,-90 117,-81.98 111.05,-77.54 103.12,-76.66\"/>\n",
       "<polygon fill=\"black\" stroke=\"black\" points=\"103.09,-73.15 93.4,-77.45 103.65,-80.13 103.09,-73.15\"/>\n",
       "</g>\n",
       "<!-- x1 -->\n",
       "<g id=\"node2\" class=\"node\">\n",
       "<title>x1</title>\n",
       "<ellipse fill=\"none\" stroke=\"black\" cx=\"27\" cy=\"-18\" rx=\"27\" ry=\"18\"/>\n",
       "<text text-anchor=\"middle\" x=\"27\" y=\"-12.57\" font-family=\"Times New Roman,serif\" font-size=\"14.00\">x1</text>\n",
       "</g>\n",
       "<!-- x0&#45;&gt;x1 -->\n",
       "<g id=\"edge2\" class=\"edge\">\n",
       "<title>x0&#45;&gt;x1</title>\n",
       "<path fill=\"none\" stroke=\"black\" stroke-dasharray=\"5,2\" d=\"M61.79,-73.12C56.32,-64.61 49.46,-53.94 43.28,-44.32\"/>\n",
       "<polygon fill=\"black\" stroke=\"black\" points=\"46.34,-42.61 37.99,-36.09 40.45,-46.4 46.34,-42.61\"/>\n",
       "</g>\n",
       "<!-- x2 -->\n",
       "<g id=\"node3\" class=\"node\">\n",
       "<title>x2</title>\n",
       "<ellipse fill=\"none\" stroke=\"black\" cx=\"117\" cy=\"-18\" rx=\"27\" ry=\"18\"/>\n",
       "<text text-anchor=\"middle\" x=\"117\" y=\"-12.57\" font-family=\"Times New Roman,serif\" font-size=\"14.00\">x2</text>\n",
       "</g>\n",
       "<!-- x0&#45;&gt;x2 -->\n",
       "<g id=\"edge4\" class=\"edge\">\n",
       "<title>x0&#45;&gt;x2</title>\n",
       "<path fill=\"none\" stroke=\"black\" stroke-dasharray=\"5,2\" d=\"M82.21,-73.12C87.68,-64.61 94.54,-53.94 100.72,-44.32\"/>\n",
       "<polygon fill=\"black\" stroke=\"black\" points=\"103.55,-46.4 106.01,-36.09 97.66,-42.61 103.55,-46.4\"/>\n",
       "</g>\n",
       "<!-- x1&#45;&gt;x1 -->\n",
       "<g id=\"edge3\" class=\"edge\">\n",
       "<title>x1&#45;&gt;x1</title>\n",
       "<path fill=\"none\" stroke=\"black\" stroke-dasharray=\"5,2\" d=\"M46.9,-30.43C59.69,-33.68 72,-29.53 72,-18 72,-9.98 66.05,-5.54 58.12,-4.66\"/>\n",
       "<polygon fill=\"black\" stroke=\"black\" points=\"58.09,-1.15 48.4,-5.45 58.65,-8.13 58.09,-1.15\"/>\n",
       "</g>\n",
       "<!-- x2&#45;&gt;x2 -->\n",
       "<g id=\"edge5\" class=\"edge\">\n",
       "<title>x2&#45;&gt;x2</title>\n",
       "<path fill=\"none\" stroke=\"black\" stroke-dasharray=\"5,2\" d=\"M136.9,-30.43C149.69,-33.68 162,-29.53 162,-18 162,-9.98 156.05,-5.54 148.12,-4.66\"/>\n",
       "<polygon fill=\"black\" stroke=\"black\" points=\"148.09,-1.15 138.4,-5.45 148.65,-8.13 148.09,-1.15\"/>\n",
       "</g>\n",
       "</g>\n",
       "</svg>\n"
      ],
      "text/plain": [
       "<graphviz.graphs.Digraph at 0x1e1b227f090>"
      ]
     },
     "execution_count": 15,
     "metadata": {},
     "output_type": "execute_result"
    }
   ],
   "source": [
    "make_prior_knowledge_graph(pk)"
   ]
  },
  {
   "cell_type": "markdown",
   "metadata": {},
   "source": [
    "### Directed path\n",
    "If the causal direction between variables is already known, specify the variable index pair in the `paths` argument."
   ]
  },
  {
   "cell_type": "code",
   "execution_count": 16,
   "metadata": {
    "ExecuteTime": {
     "end_time": "2021-06-25T06:55:39.628471Z",
     "start_time": "2021-06-25T06:55:39.612850Z"
    }
   },
   "outputs": [
    {
     "name": "stdout",
     "output_type": "stream",
     "text": [
      "[[-1 -1 -1]\n",
      " [ 1 -1 -1]\n",
      " [-1 -1 -1]]\n"
     ]
    }
   ],
   "source": [
    "pk = make_prior_knowledge(n_variables=3, paths=[[0, 1]])\n",
    "print(pk)"
   ]
  },
  {
   "cell_type": "code",
   "execution_count": 17,
   "metadata": {
    "ExecuteTime": {
     "end_time": "2021-06-25T06:55:39.969383Z",
     "start_time": "2021-06-25T06:55:39.628471Z"
    }
   },
   "outputs": [
    {
     "data": {
      "image/svg+xml": [
       "<?xml version=\"1.0\" encoding=\"UTF-8\" standalone=\"no\"?>\n",
       "<!DOCTYPE svg PUBLIC \"-//W3C//DTD SVG 1.1//EN\"\n",
       " \"http://www.w3.org/Graphics/SVG/1.1/DTD/svg11.dtd\">\n",
       "<!-- Generated by graphviz version 11.0.0 (20240428.1522)\n",
       " -->\n",
       "<!-- Pages: 1 -->\n",
       "<svg width=\"121pt\" height=\"188pt\"\n",
       " viewBox=\"0.00 0.00 121.00 188.00\" xmlns=\"http://www.w3.org/2000/svg\" xmlns:xlink=\"http://www.w3.org/1999/xlink\">\n",
       "<g id=\"graph0\" class=\"graph\" transform=\"scale(1 1) rotate(0) translate(4 184)\">\n",
       "<polygon fill=\"white\" stroke=\"none\" points=\"-4,4 -4,-184 117,-184 117,4 -4,4\"/>\n",
       "<!-- x0 -->\n",
       "<g id=\"node1\" class=\"node\">\n",
       "<title>x0</title>\n",
       "<ellipse fill=\"none\" stroke=\"black\" cx=\"68\" cy=\"-162\" rx=\"27\" ry=\"18\"/>\n",
       "<text text-anchor=\"middle\" x=\"68\" y=\"-156.57\" font-family=\"Times New Roman,serif\" font-size=\"14.00\">x0</text>\n",
       "</g>\n",
       "<!-- x0&#45;&gt;x0 -->\n",
       "<g id=\"edge2\" class=\"edge\">\n",
       "<title>x0&#45;&gt;x0</title>\n",
       "<path fill=\"none\" stroke=\"black\" stroke-dasharray=\"5,2\" d=\"M87.9,-174.43C100.69,-177.68 113,-173.53 113,-162 113,-153.98 107.05,-149.54 99.12,-148.66\"/>\n",
       "<polygon fill=\"black\" stroke=\"black\" points=\"99.09,-145.15 89.4,-149.45 99.65,-152.13 99.09,-145.15\"/>\n",
       "</g>\n",
       "<!-- x1 -->\n",
       "<g id=\"node2\" class=\"node\">\n",
       "<title>x1</title>\n",
       "<ellipse fill=\"none\" stroke=\"black\" cx=\"27\" cy=\"-90\" rx=\"27\" ry=\"18\"/>\n",
       "<text text-anchor=\"middle\" x=\"27\" y=\"-84.58\" font-family=\"Times New Roman,serif\" font-size=\"14.00\">x1</text>\n",
       "</g>\n",
       "<!-- x0&#45;&gt;x1 -->\n",
       "<g id=\"edge1\" class=\"edge\">\n",
       "<title>x0&#45;&gt;x1</title>\n",
       "<path fill=\"none\" stroke=\"black\" d=\"M53.91,-146.5C48.07,-138.32 41.6,-127.84 36.33,-118.2\"/>\n",
       "<polygon fill=\"black\" stroke=\"black\" points=\"39.56,-116.83 31.87,-109.55 33.34,-120.04 39.56,-116.83\"/>\n",
       "</g>\n",
       "<!-- x2 -->\n",
       "<g id=\"node3\" class=\"node\">\n",
       "<title>x2</title>\n",
       "<ellipse fill=\"none\" stroke=\"black\" cx=\"68\" cy=\"-18\" rx=\"27\" ry=\"18\"/>\n",
       "<text text-anchor=\"middle\" x=\"68\" y=\"-12.57\" font-family=\"Times New Roman,serif\" font-size=\"14.00\">x2</text>\n",
       "</g>\n",
       "<!-- x0&#45;&gt;x2 -->\n",
       "<g id=\"edge7\" class=\"edge\">\n",
       "<title>x0&#45;&gt;x2</title>\n",
       "<path fill=\"none\" stroke=\"black\" stroke-dasharray=\"5,2\" d=\"M65.45,-144.01C67.19,-133.7 70.52,-120.23 72,-108 73.92,-92.12 73.92,-87.88 72,-72 71.02,-63.88 69.22,-55.21 67.61,-47.28\"/>\n",
       "<polygon fill=\"black\" stroke=\"black\" points=\"71.06,-46.64 65.74,-37.48 64.18,-47.96 71.06,-46.64\"/>\n",
       "</g>\n",
       "<!-- x1&#45;&gt;x0 -->\n",
       "<g id=\"edge3\" class=\"edge\">\n",
       "<title>x1&#45;&gt;x0</title>\n",
       "<path fill=\"none\" stroke=\"black\" stroke-dasharray=\"5,2\" d=\"M41.03,-105.42C46.92,-113.66 53.47,-124.26 58.77,-133.99\"/>\n",
       "<polygon fill=\"black\" stroke=\"black\" points=\"55.57,-135.42 63.26,-142.71 61.79,-132.22 55.57,-135.42\"/>\n",
       "</g>\n",
       "<!-- x1&#45;&gt;x1 -->\n",
       "<g id=\"edge5\" class=\"edge\">\n",
       "<title>x1&#45;&gt;x1</title>\n",
       "<path fill=\"none\" stroke=\"black\" stroke-dasharray=\"5,2\" d=\"M46.9,-102.43C59.69,-105.68 72,-101.53 72,-90 72,-81.98 66.05,-77.54 58.12,-76.66\"/>\n",
       "<polygon fill=\"black\" stroke=\"black\" points=\"58.09,-73.15 48.4,-77.45 58.65,-80.13 58.09,-73.15\"/>\n",
       "</g>\n",
       "<!-- x1&#45;&gt;x2 -->\n",
       "<g id=\"edge8\" class=\"edge\">\n",
       "<title>x1&#45;&gt;x2</title>\n",
       "<path fill=\"none\" stroke=\"black\" stroke-dasharray=\"5,2\" d=\"M31.05,-72.05C35.25,-63.29 41.42,-52.43 47.6,-42.84\"/>\n",
       "<polygon fill=\"black\" stroke=\"black\" points=\"50.42,-44.92 53.12,-34.68 44.62,-41 50.42,-44.92\"/>\n",
       "</g>\n",
       "<!-- x2&#45;&gt;x0 -->\n",
       "<g id=\"edge4\" class=\"edge\">\n",
       "<title>x2&#45;&gt;x0</title>\n",
       "<path fill=\"none\" stroke=\"black\" stroke-dasharray=\"5,2\" d=\"M80.33,-34.13C84.78,-44.63 88.43,-59.02 90,-72 91.92,-87.88 91.92,-92.12 90,-108 88.92,-116.92 86.86,-126.51 84.23,-135.05\"/>\n",
       "<polygon fill=\"black\" stroke=\"black\" points=\"80.94,-133.85 80.84,-144.45 87.52,-136.23 80.94,-133.85\"/>\n",
       "</g>\n",
       "<!-- x2&#45;&gt;x1 -->\n",
       "<g id=\"edge6\" class=\"edge\">\n",
       "<title>x2&#45;&gt;x1</title>\n",
       "<path fill=\"none\" stroke=\"black\" stroke-dasharray=\"5,2\" d=\"M63.83,-36.2C59.63,-44.93 53.51,-55.66 47.39,-65.17\"/>\n",
       "<polygon fill=\"black\" stroke=\"black\" points=\"44.64,-63 41.94,-73.24 50.44,-66.92 44.64,-63\"/>\n",
       "</g>\n",
       "<!-- x2&#45;&gt;x2 -->\n",
       "<g id=\"edge9\" class=\"edge\">\n",
       "<title>x2&#45;&gt;x2</title>\n",
       "<path fill=\"none\" stroke=\"black\" stroke-dasharray=\"5,2\" d=\"M87.9,-30.43C100.69,-33.68 113,-29.53 113,-18 113,-9.98 107.05,-5.54 99.12,-4.66\"/>\n",
       "<polygon fill=\"black\" stroke=\"black\" points=\"99.09,-1.15 89.4,-5.45 99.65,-8.13 99.09,-1.15\"/>\n",
       "</g>\n",
       "</g>\n",
       "</svg>\n"
      ],
      "text/plain": [
       "<graphviz.graphs.Digraph at 0x1e18de4ba10>"
      ]
     },
     "execution_count": 17,
     "metadata": {},
     "output_type": "execute_result"
    }
   ],
   "source": [
    "make_prior_knowledge_graph(pk)"
   ]
  },
  {
   "cell_type": "markdown",
   "metadata": {},
   "source": [
    "### No directed path\n",
    "If there is no causal direction between variables is already known, specify the variable index pair in the `no_paths` argument."
   ]
  },
  {
   "cell_type": "code",
   "execution_count": 18,
   "metadata": {
    "ExecuteTime": {
     "end_time": "2021-06-25T06:55:39.985105Z",
     "start_time": "2021-06-25T06:55:39.969383Z"
    }
   },
   "outputs": [
    {
     "name": "stdout",
     "output_type": "stream",
     "text": [
      "[[-1 -1 -1]\n",
      " [ 0 -1 -1]\n",
      " [-1 -1 -1]]\n"
     ]
    }
   ],
   "source": [
    "pk = make_prior_knowledge(n_variables=3, no_paths=[[0, 1]])\n",
    "print(pk)"
   ]
  },
  {
   "cell_type": "code",
   "execution_count": 19,
   "metadata": {
    "ExecuteTime": {
     "end_time": "2021-06-25T06:55:40.344110Z",
     "start_time": "2021-06-25T06:55:39.987190Z"
    }
   },
   "outputs": [
    {
     "data": {
      "image/svg+xml": [
       "<?xml version=\"1.0\" encoding=\"UTF-8\" standalone=\"no\"?>\n",
       "<!DOCTYPE svg PUBLIC \"-//W3C//DTD SVG 1.1//EN\"\n",
       " \"http://www.w3.org/Graphics/SVG/1.1/DTD/svg11.dtd\">\n",
       "<!-- Generated by graphviz version 11.0.0 (20240428.1522)\n",
       " -->\n",
       "<!-- Pages: 1 -->\n",
       "<svg width=\"94pt\" height=\"188pt\"\n",
       " viewBox=\"0.00 0.00 93.64 188.00\" xmlns=\"http://www.w3.org/2000/svg\" xmlns:xlink=\"http://www.w3.org/1999/xlink\">\n",
       "<g id=\"graph0\" class=\"graph\" transform=\"scale(1 1) rotate(0) translate(4 184)\">\n",
       "<polygon fill=\"white\" stroke=\"none\" points=\"-4,4 -4,-184 89.64,-184 89.64,4 -4,4\"/>\n",
       "<!-- x0 -->\n",
       "<g id=\"node1\" class=\"node\">\n",
       "<title>x0</title>\n",
       "<ellipse fill=\"none\" stroke=\"black\" cx=\"27\" cy=\"-162\" rx=\"27\" ry=\"18\"/>\n",
       "<text text-anchor=\"middle\" x=\"27\" y=\"-156.57\" font-family=\"Times New Roman,serif\" font-size=\"14.00\">x0</text>\n",
       "</g>\n",
       "<!-- x0&#45;&gt;x0 -->\n",
       "<g id=\"edge1\" class=\"edge\">\n",
       "<title>x0&#45;&gt;x0</title>\n",
       "<path fill=\"none\" stroke=\"black\" stroke-dasharray=\"5,2\" d=\"M46.9,-174.43C59.69,-177.68 72,-173.53 72,-162 72,-153.98 66.05,-149.54 58.12,-148.66\"/>\n",
       "<polygon fill=\"black\" stroke=\"black\" points=\"58.09,-145.15 48.4,-149.45 58.65,-152.13 58.09,-145.15\"/>\n",
       "</g>\n",
       "<!-- x2 -->\n",
       "<g id=\"node3\" class=\"node\">\n",
       "<title>x2</title>\n",
       "<ellipse fill=\"none\" stroke=\"black\" cx=\"27\" cy=\"-90\" rx=\"27\" ry=\"18\"/>\n",
       "<text text-anchor=\"middle\" x=\"27\" y=\"-84.58\" font-family=\"Times New Roman,serif\" font-size=\"14.00\">x2</text>\n",
       "</g>\n",
       "<!-- x0&#45;&gt;x2 -->\n",
       "<g id=\"edge6\" class=\"edge\">\n",
       "<title>x0&#45;&gt;x2</title>\n",
       "<path fill=\"none\" stroke=\"black\" stroke-dasharray=\"5,2\" d=\"M21.12,-144.05C20.33,-136.57 20.08,-127.58 20.37,-119.14\"/>\n",
       "<polygon fill=\"black\" stroke=\"black\" points=\"23.85,-119.51 21.04,-109.3 16.87,-119.04 23.85,-119.51\"/>\n",
       "</g>\n",
       "<!-- x1 -->\n",
       "<g id=\"node2\" class=\"node\">\n",
       "<title>x1</title>\n",
       "<ellipse fill=\"none\" stroke=\"black\" cx=\"27\" cy=\"-18\" rx=\"27\" ry=\"18\"/>\n",
       "<text text-anchor=\"middle\" x=\"27\" y=\"-12.57\" font-family=\"Times New Roman,serif\" font-size=\"14.00\">x1</text>\n",
       "</g>\n",
       "<!-- x1&#45;&gt;x0 -->\n",
       "<g id=\"edge2\" class=\"edge\">\n",
       "<title>x1&#45;&gt;x0</title>\n",
       "<path fill=\"none\" stroke=\"black\" stroke-dasharray=\"5,2\" d=\"M45.83,-31.34C58.4,-40.78 73.88,-55.04 81,-72 87.19,-86.75 87.19,-93.25 81,-108 75.5,-121.12 64.99,-132.62 54.69,-141.53\"/>\n",
       "<polygon fill=\"black\" stroke=\"black\" points=\"52.6,-138.71 47.01,-147.71 56.99,-144.17 52.6,-138.71\"/>\n",
       "</g>\n",
       "<!-- x1&#45;&gt;x1 -->\n",
       "<g id=\"edge4\" class=\"edge\">\n",
       "<title>x1&#45;&gt;x1</title>\n",
       "<path fill=\"none\" stroke=\"black\" stroke-dasharray=\"5,2\" d=\"M46.9,-30.43C59.69,-33.68 72,-29.53 72,-18 72,-9.98 66.05,-5.54 58.12,-4.66\"/>\n",
       "<polygon fill=\"black\" stroke=\"black\" points=\"58.09,-1.15 48.4,-5.45 58.65,-8.13 58.09,-1.15\"/>\n",
       "</g>\n",
       "<!-- x1&#45;&gt;x2 -->\n",
       "<g id=\"edge7\" class=\"edge\">\n",
       "<title>x1&#45;&gt;x2</title>\n",
       "<path fill=\"none\" stroke=\"black\" stroke-dasharray=\"5,2\" d=\"M32.86,-35.79C33.66,-43.25 33.92,-52.24 33.64,-60.69\"/>\n",
       "<polygon fill=\"black\" stroke=\"black\" points=\"30.16,-60.33 32.98,-70.54 37.14,-60.8 30.16,-60.33\"/>\n",
       "</g>\n",
       "<!-- x2&#45;&gt;x0 -->\n",
       "<g id=\"edge3\" class=\"edge\">\n",
       "<title>x2&#45;&gt;x0</title>\n",
       "<path fill=\"none\" stroke=\"black\" stroke-dasharray=\"5,2\" d=\"M32.86,-107.79C33.66,-115.25 33.92,-124.24 33.64,-132.69\"/>\n",
       "<polygon fill=\"black\" stroke=\"black\" points=\"30.16,-132.33 32.98,-142.54 37.14,-132.8 30.16,-132.33\"/>\n",
       "</g>\n",
       "<!-- x2&#45;&gt;x1 -->\n",
       "<g id=\"edge5\" class=\"edge\">\n",
       "<title>x2&#45;&gt;x1</title>\n",
       "<path fill=\"none\" stroke=\"black\" stroke-dasharray=\"5,2\" d=\"M21.12,-72.05C20.33,-64.57 20.08,-55.58 20.37,-47.14\"/>\n",
       "<polygon fill=\"black\" stroke=\"black\" points=\"23.85,-47.51 21.04,-37.3 16.87,-47.04 23.85,-47.51\"/>\n",
       "</g>\n",
       "<!-- x2&#45;&gt;x2 -->\n",
       "<g id=\"edge8\" class=\"edge\">\n",
       "<title>x2&#45;&gt;x2</title>\n",
       "<path fill=\"none\" stroke=\"black\" stroke-dasharray=\"5,2\" d=\"M46.9,-102.43C59.69,-105.68 72,-101.53 72,-90 72,-81.98 66.05,-77.54 58.12,-76.66\"/>\n",
       "<polygon fill=\"black\" stroke=\"black\" points=\"58.09,-73.15 48.4,-77.45 58.65,-80.13 58.09,-73.15\"/>\n",
       "</g>\n",
       "</g>\n",
       "</svg>\n"
      ],
      "text/plain": [
       "<graphviz.graphs.Digraph at 0x1e1b2293a10>"
      ]
     },
     "execution_count": 19,
     "metadata": {},
     "output_type": "execute_result"
    }
   ],
   "source": [
    "make_prior_knowledge_graph(pk)"
   ]
  },
  {
   "cell_type": "markdown",
   "metadata": {},
   "source": [
    "### Mix all knowledge"
   ]
  },
  {
   "cell_type": "markdown",
   "metadata": {},
   "source": [
    "All prior knowledge can be specified at the same time. A prior knowledge matrix is created with priorities in the order of `exogenous_variables`, `sink_variables`, `paths`, `no_paths`."
   ]
  },
  {
   "cell_type": "code",
   "execution_count": 20,
   "metadata": {
    "ExecuteTime": {
     "end_time": "2021-06-25T06:55:40.359270Z",
     "start_time": "2021-06-25T06:55:40.348100Z"
    }
   },
   "outputs": [],
   "source": [
    "pk = make_prior_knowledge(\n",
    "    n_variables=4,\n",
    "    exogenous_variables=[3],\n",
    "    sink_variables=[0],\n",
    "    paths=[[1, 0]],\n",
    "    no_paths=[[3, 0]],\n",
    ")"
   ]
  },
  {
   "cell_type": "code",
   "execution_count": 21,
   "metadata": {
    "ExecuteTime": {
     "end_time": "2021-06-25T06:55:40.662133Z",
     "start_time": "2021-06-25T06:55:40.361264Z"
    }
   },
   "outputs": [
    {
     "data": {
      "image/svg+xml": [
       "<?xml version=\"1.0\" encoding=\"UTF-8\" standalone=\"no\"?>\n",
       "<!DOCTYPE svg PUBLIC \"-//W3C//DTD SVG 1.1//EN\"\n",
       " \"http://www.w3.org/Graphics/SVG/1.1/DTD/svg11.dtd\">\n",
       "<!-- Generated by graphviz version 11.0.0 (20240428.1522)\n",
       " -->\n",
       "<!-- Pages: 1 -->\n",
       "<svg width=\"116pt\" height=\"260pt\"\n",
       " viewBox=\"0.00 0.00 116.00 260.00\" xmlns=\"http://www.w3.org/2000/svg\" xmlns:xlink=\"http://www.w3.org/1999/xlink\">\n",
       "<g id=\"graph0\" class=\"graph\" transform=\"scale(1 1) rotate(0) translate(4 256)\">\n",
       "<polygon fill=\"white\" stroke=\"none\" points=\"-4,4 -4,-256 112,-256 112,4 -4,4\"/>\n",
       "<!-- x0 -->\n",
       "<g id=\"node1\" class=\"node\">\n",
       "<title>x0</title>\n",
       "<ellipse fill=\"none\" stroke=\"black\" cx=\"27\" cy=\"-18\" rx=\"27\" ry=\"18\"/>\n",
       "<text text-anchor=\"middle\" x=\"27\" y=\"-12.57\" font-family=\"Times New Roman,serif\" font-size=\"14.00\">x0</text>\n",
       "</g>\n",
       "<!-- x0&#45;&gt;x0 -->\n",
       "<g id=\"edge2\" class=\"edge\">\n",
       "<title>x0&#45;&gt;x0</title>\n",
       "<path fill=\"none\" stroke=\"black\" stroke-dasharray=\"5,2\" d=\"M46.9,-30.43C59.69,-33.68 72,-29.53 72,-18 72,-9.98 66.05,-5.54 58.12,-4.66\"/>\n",
       "<polygon fill=\"black\" stroke=\"black\" points=\"58.09,-1.15 48.4,-5.45 58.65,-8.13 58.09,-1.15\"/>\n",
       "</g>\n",
       "<!-- x1 -->\n",
       "<g id=\"node2\" class=\"node\">\n",
       "<title>x1</title>\n",
       "<ellipse fill=\"none\" stroke=\"black\" cx=\"27\" cy=\"-162\" rx=\"27\" ry=\"18\"/>\n",
       "<text text-anchor=\"middle\" x=\"27\" y=\"-156.57\" font-family=\"Times New Roman,serif\" font-size=\"14.00\">x1</text>\n",
       "</g>\n",
       "<!-- x1&#45;&gt;x0 -->\n",
       "<g id=\"edge1\" class=\"edge\">\n",
       "<title>x1&#45;&gt;x0</title>\n",
       "<path fill=\"none\" stroke=\"black\" d=\"M23.75,-143.89C21.95,-133.54 19.91,-120.06 19,-108 17.8,-92.04 17.8,-87.96 19,-72 19.6,-63.99 20.71,-55.35 21.91,-47.43\"/>\n",
       "<polygon fill=\"black\" stroke=\"black\" points=\"25.35,-48.04 23.51,-37.61 18.45,-46.91 25.35,-48.04\"/>\n",
       "</g>\n",
       "<!-- x1&#45;&gt;x1 -->\n",
       "<g id=\"edge4\" class=\"edge\">\n",
       "<title>x1&#45;&gt;x1</title>\n",
       "<path fill=\"none\" stroke=\"black\" stroke-dasharray=\"5,2\" d=\"M46.9,-174.43C59.69,-177.68 72,-173.53 72,-162 72,-153.98 66.05,-149.54 58.12,-148.66\"/>\n",
       "<polygon fill=\"black\" stroke=\"black\" points=\"58.09,-145.15 48.4,-149.45 58.65,-152.13 58.09,-145.15\"/>\n",
       "</g>\n",
       "<!-- x2 -->\n",
       "<g id=\"node3\" class=\"node\">\n",
       "<title>x2</title>\n",
       "<ellipse fill=\"none\" stroke=\"black\" cx=\"55\" cy=\"-90\" rx=\"27\" ry=\"18\"/>\n",
       "<text text-anchor=\"middle\" x=\"55\" y=\"-84.58\" font-family=\"Times New Roman,serif\" font-size=\"14.00\">x2</text>\n",
       "</g>\n",
       "<!-- x1&#45;&gt;x2 -->\n",
       "<g id=\"edge7\" class=\"edge\">\n",
       "<title>x1&#45;&gt;x2</title>\n",
       "<path fill=\"none\" stroke=\"black\" stroke-dasharray=\"5,2\" d=\"M28.01,-143.7C30.46,-135.43 34.28,-125.38 38.37,-116.28\"/>\n",
       "<polygon fill=\"black\" stroke=\"black\" points=\"41.39,-118.09 42.58,-107.57 35.08,-115.05 41.39,-118.09\"/>\n",
       "</g>\n",
       "<!-- x2&#45;&gt;x0 -->\n",
       "<g id=\"edge3\" class=\"edge\">\n",
       "<title>x2&#45;&gt;x0</title>\n",
       "<path fill=\"none\" stroke=\"black\" stroke-dasharray=\"5,2\" d=\"M48.36,-72.41C45.23,-64.57 41.4,-54.99 37.85,-46.13\"/>\n",
       "<polygon fill=\"black\" stroke=\"black\" points=\"41.11,-44.86 34.15,-36.88 34.61,-47.46 41.11,-44.86\"/>\n",
       "</g>\n",
       "<!-- x2&#45;&gt;x1 -->\n",
       "<g id=\"edge5\" class=\"edge\">\n",
       "<title>x2&#45;&gt;x1</title>\n",
       "<path fill=\"none\" stroke=\"black\" stroke-dasharray=\"5,2\" d=\"M53.95,-108.46C51.54,-116.54 47.84,-126.3 43.86,-135.2\"/>\n",
       "<polygon fill=\"black\" stroke=\"black\" points=\"40.76,-133.57 39.59,-144.1 47.07,-136.6 40.76,-133.57\"/>\n",
       "</g>\n",
       "<!-- x2&#45;&gt;x2 -->\n",
       "<g id=\"edge8\" class=\"edge\">\n",
       "<title>x2&#45;&gt;x2</title>\n",
       "<path fill=\"none\" stroke=\"black\" stroke-dasharray=\"5,2\" d=\"M74.9,-102.43C87.69,-105.68 100,-101.53 100,-90 100,-81.98 94.05,-77.54 86.12,-76.66\"/>\n",
       "<polygon fill=\"black\" stroke=\"black\" points=\"86.09,-73.15 76.4,-77.45 86.65,-80.13 86.09,-73.15\"/>\n",
       "</g>\n",
       "<!-- x3 -->\n",
       "<g id=\"node4\" class=\"node\">\n",
       "<title>x3</title>\n",
       "<ellipse fill=\"none\" stroke=\"black\" cx=\"63\" cy=\"-234\" rx=\"27\" ry=\"18\"/>\n",
       "<text text-anchor=\"middle\" x=\"63\" y=\"-228.57\" font-family=\"Times New Roman,serif\" font-size=\"14.00\">x3</text>\n",
       "</g>\n",
       "<!-- x3&#45;&gt;x1 -->\n",
       "<g id=\"edge6\" class=\"edge\">\n",
       "<title>x3&#45;&gt;x1</title>\n",
       "<path fill=\"none\" stroke=\"black\" stroke-dasharray=\"5,2\" d=\"M54.65,-216.76C50.42,-208.55 45.19,-198.37 40.42,-189.09\"/>\n",
       "<polygon fill=\"black\" stroke=\"black\" points=\"43.68,-187.79 36,-180.49 37.46,-190.99 43.68,-187.79\"/>\n",
       "</g>\n",
       "<!-- x3&#45;&gt;x2 -->\n",
       "<g id=\"edge9\" class=\"edge\">\n",
       "<title>x3&#45;&gt;x2</title>\n",
       "<path fill=\"none\" stroke=\"black\" stroke-dasharray=\"5,2\" d=\"M70.57,-216.54C77.81,-198.63 86.84,-169.18 81,-144 78.85,-134.73 74.84,-125.22 70.6,-116.86\"/>\n",
       "<polygon fill=\"black\" stroke=\"black\" points=\"73.81,-115.43 65.96,-108.31 67.66,-118.77 73.81,-115.43\"/>\n",
       "</g>\n",
       "<!-- x3&#45;&gt;x3 -->\n",
       "<g id=\"edge10\" class=\"edge\">\n",
       "<title>x3&#45;&gt;x3</title>\n",
       "<path fill=\"none\" stroke=\"black\" stroke-dasharray=\"5,2\" d=\"M82.9,-246.43C95.69,-249.68 108,-245.53 108,-234 108,-225.98 102.05,-221.54 94.12,-220.66\"/>\n",
       "<polygon fill=\"black\" stroke=\"black\" points=\"94.09,-217.15 84.4,-221.45 94.65,-224.13 94.09,-217.15\"/>\n",
       "</g>\n",
       "</g>\n",
       "</svg>\n"
      ],
      "text/plain": [
       "<graphviz.graphs.Digraph at 0x1e18de4a950>"
      ]
     },
     "execution_count": 21,
     "metadata": {},
     "output_type": "execute_result"
    }
   ],
   "source": [
    "make_prior_knowledge_graph(pk)"
   ]
  },
  {
   "cell_type": "markdown",
   "metadata": {},
   "source": [
    "## remove_effect\n",
    "If it is considered that there are hidden common causes in X0(categorical variable) and X1 in following DAG, we want to run causal discovery excluding the effects of X0 and X1."
   ]
  },
  {
   "cell_type": "code",
   "execution_count": 22,
   "metadata": {
    "ExecuteTime": {
     "end_time": "2021-06-25T06:55:41.000026Z",
     "start_time": "2021-06-25T06:55:40.666589Z"
    }
   },
   "outputs": [
    {
     "data": {
      "image/svg+xml": [
       "<?xml version=\"1.0\" encoding=\"UTF-8\" standalone=\"no\"?>\n",
       "<!DOCTYPE svg PUBLIC \"-//W3C//DTD SVG 1.1//EN\"\n",
       " \"http://www.w3.org/Graphics/SVG/1.1/DTD/svg11.dtd\">\n",
       "<!-- Generated by graphviz version 11.0.0 (20240428.1522)\n",
       " -->\n",
       "<!-- Pages: 1 -->\n",
       "<svg width=\"164pt\" height=\"395pt\"\n",
       " viewBox=\"0.00 0.00 164.00 395.00\" xmlns=\"http://www.w3.org/2000/svg\" xmlns:xlink=\"http://www.w3.org/1999/xlink\">\n",
       "<g id=\"graph0\" class=\"graph\" transform=\"scale(1 1) rotate(0) translate(4 391)\">\n",
       "<polygon fill=\"white\" stroke=\"none\" points=\"-4,4 -4,-391 160,-391 160,4 -4,4\"/>\n",
       "<!-- x0 -->\n",
       "<g id=\"node1\" class=\"node\">\n",
       "<title>x0</title>\n",
       "<ellipse fill=\"none\" stroke=\"black\" cx=\"90\" cy=\"-369\" rx=\"27\" ry=\"18\"/>\n",
       "<text text-anchor=\"middle\" x=\"90\" y=\"-363.57\" font-family=\"Times New Roman,serif\" font-size=\"14.00\">x0</text>\n",
       "</g>\n",
       "<!-- x1 -->\n",
       "<g id=\"node2\" class=\"node\">\n",
       "<title>x1</title>\n",
       "<ellipse fill=\"none\" stroke=\"black\" cx=\"27\" cy=\"-281.25\" rx=\"27\" ry=\"18\"/>\n",
       "<text text-anchor=\"middle\" x=\"27\" y=\"-275.82\" font-family=\"Times New Roman,serif\" font-size=\"14.00\">x1</text>\n",
       "</g>\n",
       "<!-- x0&#45;&gt;x1 -->\n",
       "<g id=\"edge1\" class=\"edge\">\n",
       "<title>x0&#45;&gt;x1</title>\n",
       "<path fill=\"none\" stroke=\"black\" d=\"M73.17,-354.87C66.04,-348.75 58.02,-341.04 52,-333 46.66,-325.86 41.97,-317.41 38.13,-309.47\"/>\n",
       "<polygon fill=\"black\" stroke=\"black\" points=\"41.39,-308.17 34.07,-300.51 35.01,-311.06 41.39,-308.17\"/>\n",
       "<text text-anchor=\"middle\" x=\"64\" y=\"-319.7\" font-family=\"Times New Roman,serif\" font-size=\"14.00\">0.50</text>\n",
       "</g>\n",
       "<!-- x2 -->\n",
       "<g id=\"node3\" class=\"node\">\n",
       "<title>x2</title>\n",
       "<ellipse fill=\"none\" stroke=\"black\" cx=\"78\" cy=\"-193.5\" rx=\"27\" ry=\"18\"/>\n",
       "<text text-anchor=\"middle\" x=\"78\" y=\"-188.07\" font-family=\"Times New Roman,serif\" font-size=\"14.00\">x2</text>\n",
       "</g>\n",
       "<!-- x0&#45;&gt;x2 -->\n",
       "<g id=\"edge2\" class=\"edge\">\n",
       "<title>x0&#45;&gt;x2</title>\n",
       "<path fill=\"none\" stroke=\"black\" d=\"M88.81,-350.73C86.74,-320.93 82.5,-259.55 79.99,-223.23\"/>\n",
       "<polygon fill=\"black\" stroke=\"black\" points=\"83.49,-223.2 79.31,-213.47 76.51,-223.69 83.49,-223.2\"/>\n",
       "<text text-anchor=\"middle\" x=\"97\" y=\"-275.82\" font-family=\"Times New Roman,serif\" font-size=\"14.00\">4.00</text>\n",
       "</g>\n",
       "<!-- x3 -->\n",
       "<g id=\"node4\" class=\"node\">\n",
       "<title>x3</title>\n",
       "<ellipse fill=\"none\" stroke=\"black\" cx=\"129\" cy=\"-105.75\" rx=\"27\" ry=\"18\"/>\n",
       "<text text-anchor=\"middle\" x=\"129\" y=\"-100.33\" font-family=\"Times New Roman,serif\" font-size=\"14.00\">x3</text>\n",
       "</g>\n",
       "<!-- x0&#45;&gt;x3 -->\n",
       "<g id=\"edge4\" class=\"edge\">\n",
       "<title>x0&#45;&gt;x3</title>\n",
       "<path fill=\"none\" stroke=\"black\" d=\"M96.71,-351.33C101.97,-337.59 109.04,-317.45 113,-299.25 125.44,-242.03 128.36,-173.32 128.95,-135.4\"/>\n",
       "<polygon fill=\"black\" stroke=\"black\" points=\"132.45,-135.78 129.05,-125.74 125.45,-135.71 132.45,-135.78\"/>\n",
       "<text text-anchor=\"middle\" x=\"135\" y=\"-231.95\" font-family=\"Times New Roman,serif\" font-size=\"14.00\">2.00</text>\n",
       "</g>\n",
       "<!-- x1&#45;&gt;x2 -->\n",
       "<g id=\"edge3\" class=\"edge\">\n",
       "<title>x1&#45;&gt;x2</title>\n",
       "<path fill=\"none\" stroke=\"black\" d=\"M32.31,-263.12C35.85,-252.95 41.04,-240.03 47.5,-229.5 50.01,-225.4 53.01,-221.32 56.13,-217.46\"/>\n",
       "<polygon fill=\"black\" stroke=\"black\" points=\"58.58,-219.97 62.47,-210.11 53.29,-215.4 58.58,-219.97\"/>\n",
       "<text text-anchor=\"middle\" x=\"62.25\" y=\"-231.95\" font-family=\"Times New Roman,serif\" font-size=\"14.00\">&#45;1.00</text>\n",
       "</g>\n",
       "<!-- x4 -->\n",
       "<g id=\"node5\" class=\"node\">\n",
       "<title>x4</title>\n",
       "<ellipse fill=\"none\" stroke=\"black\" cx=\"60\" cy=\"-18\" rx=\"27\" ry=\"18\"/>\n",
       "<text text-anchor=\"middle\" x=\"60\" y=\"-12.57\" font-family=\"Times New Roman,serif\" font-size=\"14.00\">x4</text>\n",
       "</g>\n",
       "<!-- x1&#45;&gt;x4 -->\n",
       "<g id=\"edge6\" class=\"edge\">\n",
       "<title>x1&#45;&gt;x4</title>\n",
       "<path fill=\"none\" stroke=\"black\" d=\"M28.85,-263.18C31.7,-237.02 37.45,-185.45 43,-141.75 47.12,-109.29 52.35,-72.06 55.91,-47.2\"/>\n",
       "<polygon fill=\"black\" stroke=\"black\" points=\"59.34,-47.96 57.3,-37.56 52.41,-46.96 59.34,-47.96\"/>\n",
       "<text text-anchor=\"middle\" x=\"55\" y=\"-144.2\" font-family=\"Times New Roman,serif\" font-size=\"14.00\">1.00</text>\n",
       "</g>\n",
       "<!-- x2&#45;&gt;x3 -->\n",
       "<g id=\"edge5\" class=\"edge\">\n",
       "<title>x2&#45;&gt;x3</title>\n",
       "<path fill=\"none\" stroke=\"black\" d=\"M83.77,-175.42C87.55,-165.27 92.99,-152.35 99.5,-141.75 101.91,-137.82 104.74,-133.88 107.68,-130.13\"/>\n",
       "<polygon fill=\"black\" stroke=\"black\" points=\"110.34,-132.41 114.05,-122.49 104.96,-127.92 110.34,-132.41\"/>\n",
       "<text text-anchor=\"middle\" x=\"113.25\" y=\"-144.2\" font-family=\"Times New Roman,serif\" font-size=\"14.00\">&#45;3.00</text>\n",
       "</g>\n",
       "<!-- x2&#45;&gt;x4 -->\n",
       "<g id=\"edge7\" class=\"edge\">\n",
       "<title>x2&#45;&gt;x4</title>\n",
       "<path fill=\"none\" stroke=\"black\" d=\"M75.53,-175.29C73.59,-161.4 70.91,-141.34 69,-123.75 66.22,-98.11 63.77,-68.87 62.13,-47.81\"/>\n",
       "<polygon fill=\"black\" stroke=\"black\" points=\"65.63,-47.66 61.38,-37.95 58.65,-48.19 65.63,-47.66\"/>\n",
       "<text text-anchor=\"middle\" x=\"81\" y=\"-100.33\" font-family=\"Times New Roman,serif\" font-size=\"14.00\">2.00</text>\n",
       "</g>\n",
       "<!-- x3&#45;&gt;x4 -->\n",
       "<g id=\"edge8\" class=\"edge\">\n",
       "<title>x3&#45;&gt;x4</title>\n",
       "<path fill=\"none\" stroke=\"black\" d=\"M116.66,-89.42C106.33,-76.57 91.39,-58.01 79.44,-43.16\"/>\n",
       "<polygon fill=\"black\" stroke=\"black\" points=\"82.41,-41.26 73.41,-35.67 76.95,-45.65 82.41,-41.26\"/>\n",
       "<text text-anchor=\"middle\" x=\"112\" y=\"-56.45\" font-family=\"Times New Roman,serif\" font-size=\"14.00\">2.00</text>\n",
       "</g>\n",
       "</g>\n",
       "</svg>\n"
      ],
      "text/plain": [
       "<graphviz.graphs.Digraph at 0x1e1b24d81d0>"
      ]
     },
     "execution_count": 22,
     "metadata": {},
     "output_type": "execute_result"
    }
   ],
   "source": [
    "m = np.array([[0.0, 0.0, 0.0, 0.0, 0.0],\n",
    "              [0.5, 0.0, 0.0, 0.0, 0.0],\n",
    "              [4.0,-1.0, 0.0, 0.0, 0.0],\n",
    "              [2.0, 0.0,-3.0, 0.0, 0.0],\n",
    "              [0.0, 1.0, 2.0, 2.0, 0.0]])\n",
    "\n",
    "make_dot(m)"
   ]
  },
  {
   "cell_type": "code",
   "execution_count": 23,
   "metadata": {
    "ExecuteTime": {
     "end_time": "2021-06-25T06:55:41.020819Z",
     "start_time": "2021-06-25T06:55:41.001561Z"
    }
   },
   "outputs": [
    {
     "data": {
      "text/html": [
       "<div>\n",
       "<style scoped>\n",
       "    .dataframe tbody tr th:only-of-type {\n",
       "        vertical-align: middle;\n",
       "    }\n",
       "\n",
       "    .dataframe tbody tr th {\n",
       "        vertical-align: top;\n",
       "    }\n",
       "\n",
       "    .dataframe thead th {\n",
       "        text-align: right;\n",
       "    }\n",
       "</style>\n",
       "<table border=\"1\" class=\"dataframe\">\n",
       "  <thead>\n",
       "    <tr style=\"text-align: right;\">\n",
       "      <th></th>\n",
       "      <th>x0</th>\n",
       "      <th>x1</th>\n",
       "      <th>x2</th>\n",
       "      <th>x3</th>\n",
       "      <th>x4</th>\n",
       "    </tr>\n",
       "  </thead>\n",
       "  <tbody>\n",
       "    <tr>\n",
       "      <th>0</th>\n",
       "      <td>0.0</td>\n",
       "      <td>0.050261</td>\n",
       "      <td>0.463783</td>\n",
       "      <td>-1.126735</td>\n",
       "      <td>-1.158823</td>\n",
       "    </tr>\n",
       "    <tr>\n",
       "      <th>1</th>\n",
       "      <td>1.0</td>\n",
       "      <td>1.178004</td>\n",
       "      <td>3.267241</td>\n",
       "      <td>-6.887056</td>\n",
       "      <td>-5.598983</td>\n",
       "    </tr>\n",
       "    <tr>\n",
       "      <th>2</th>\n",
       "      <td>1.0</td>\n",
       "      <td>0.540158</td>\n",
       "      <td>4.043353</td>\n",
       "      <td>-9.351763</td>\n",
       "      <td>-9.743842</td>\n",
       "    </tr>\n",
       "    <tr>\n",
       "      <th>3</th>\n",
       "      <td>1.0</td>\n",
       "      <td>1.349468</td>\n",
       "      <td>2.777060</td>\n",
       "      <td>-6.244626</td>\n",
       "      <td>-4.675765</td>\n",
       "    </tr>\n",
       "    <tr>\n",
       "      <th>4</th>\n",
       "      <td>1.0</td>\n",
       "      <td>0.794132</td>\n",
       "      <td>3.493286</td>\n",
       "      <td>-7.697956</td>\n",
       "      <td>-6.991642</td>\n",
       "    </tr>\n",
       "  </tbody>\n",
       "</table>\n",
       "</div>"
      ],
      "text/plain": [
       "    x0        x1        x2        x3        x4\n",
       "0  0.0  0.050261  0.463783 -1.126735 -1.158823\n",
       "1  1.0  1.178004  3.267241 -6.887056 -5.598983\n",
       "2  1.0  0.540158  4.043353 -9.351763 -9.743842\n",
       "3  1.0  1.349468  2.777060 -6.244626 -4.675765\n",
       "4  1.0  0.794132  3.493286 -7.697956 -6.991642"
      ]
     },
     "execution_count": 23,
     "metadata": {},
     "output_type": "execute_result"
    }
   ],
   "source": [
    "# x0 = np.random.uniform(size=10000)\n",
    "x0 = np.random.randint(2, size=10000)\n",
    "x1 = 0.5*x0 + np.random.uniform(size=10000)\n",
    "x2 = 4.0*x0 - 1.0*x1 + np.random.uniform(size=10000)\n",
    "x3 = 2.0*x0 - 3.0*x2 + np.random.uniform(size=10000)\n",
    "x4 = 1.0*x1 + 2.0*x2 + 2.0*x3 + np.random.uniform(size=10000)\n",
    "X = pd.DataFrame(np.array([x0, x1, x2, x3, x4]).T ,columns=['x0', 'x1', 'x2', 'x3', 'x4'])\n",
    "X.head()"
   ]
  },
  {
   "cell_type": "markdown",
   "metadata": {},
   "source": [
    "In this cases, we can import `lingam.utils` and use `remove_effect` function."
   ]
  },
  {
   "cell_type": "code",
   "execution_count": 24,
   "metadata": {
    "ExecuteTime": {
     "end_time": "2021-06-25T06:55:41.036440Z",
     "start_time": "2021-06-25T06:55:41.020819Z"
    }
   },
   "outputs": [],
   "source": [
    "from lingam.utils import remove_effect\n",
    "remove_features=[0, 1]\n",
    "X_removed = remove_effect(X, remove_features=remove_features)"
   ]
  },
  {
   "cell_type": "markdown",
   "metadata": {},
   "source": [
    "If we run DirectLiNGAM on the dataset that excludes the effects of X0 and X1, we can get the following results:"
   ]
  },
  {
   "cell_type": "code",
   "execution_count": 25,
   "metadata": {
    "ExecuteTime": {
     "end_time": "2021-06-25T06:55:41.518197Z",
     "start_time": "2021-06-25T06:55:41.036440Z"
    }
   },
   "outputs": [
    {
     "name": "stdout",
     "output_type": "stream",
     "text": [
      "[0, 1, 2, 3, 4]\n",
      "[[ 0.     0.     0.     0.     0.   ]\n",
      " [ 0.493  0.     0.     0.     0.   ]\n",
      " [ 0.     0.     0.     0.     0.   ]\n",
      " [ 0.     0.    -2.998  0.     0.   ]\n",
      " [ 0.     0.     2.023  2.012  0.   ]]\n"
     ]
    },
    {
     "data": {
      "image/svg+xml": [
       "<?xml version=\"1.0\" encoding=\"UTF-8\" standalone=\"no\"?>\n",
       "<!DOCTYPE svg PUBLIC \"-//W3C//DTD SVG 1.1//EN\"\n",
       " \"http://www.w3.org/Graphics/SVG/1.1/DTD/svg11.dtd\">\n",
       "<!-- Generated by graphviz version 11.0.0 (20240428.1522)\n",
       " -->\n",
       "<!-- Pages: 1 -->\n",
       "<svg width=\"185pt\" height=\"220pt\"\n",
       " viewBox=\"0.00 0.00 185.00 219.50\" xmlns=\"http://www.w3.org/2000/svg\" xmlns:xlink=\"http://www.w3.org/1999/xlink\">\n",
       "<g id=\"graph0\" class=\"graph\" transform=\"scale(1 1) rotate(0) translate(4 215.5)\">\n",
       "<polygon fill=\"white\" stroke=\"none\" points=\"-4,4 -4,-215.5 181,-215.5 181,4 -4,4\"/>\n",
       "<!-- x0 -->\n",
       "<g id=\"node1\" class=\"node\">\n",
       "<title>x0</title>\n",
       "<ellipse fill=\"none\" stroke=\"black\" cx=\"27\" cy=\"-193.5\" rx=\"27\" ry=\"18\"/>\n",
       "<text text-anchor=\"middle\" x=\"27\" y=\"-188.07\" font-family=\"Times New Roman,serif\" font-size=\"14.00\">x0</text>\n",
       "</g>\n",
       "<!-- x1 -->\n",
       "<g id=\"node2\" class=\"node\">\n",
       "<title>x1</title>\n",
       "<ellipse fill=\"none\" stroke=\"black\" cx=\"27\" cy=\"-105.75\" rx=\"27\" ry=\"18\"/>\n",
       "<text text-anchor=\"middle\" x=\"27\" y=\"-100.33\" font-family=\"Times New Roman,serif\" font-size=\"14.00\">x1</text>\n",
       "</g>\n",
       "<!-- x0&#45;&gt;x1 -->\n",
       "<g id=\"edge1\" class=\"edge\">\n",
       "<title>x0&#45;&gt;x1</title>\n",
       "<path fill=\"none\" stroke=\"black\" d=\"M27,-175.15C27,-163.76 27,-148.59 27,-135.43\"/>\n",
       "<polygon fill=\"black\" stroke=\"black\" points=\"30.5,-135.59 27,-125.59 23.5,-135.59 30.5,-135.59\"/>\n",
       "<text text-anchor=\"middle\" x=\"39\" y=\"-144.2\" font-family=\"Times New Roman,serif\" font-size=\"14.00\">0.49</text>\n",
       "</g>\n",
       "<!-- x2 -->\n",
       "<g id=\"node3\" class=\"node\">\n",
       "<title>x2</title>\n",
       "<ellipse fill=\"none\" stroke=\"black\" cx=\"139\" cy=\"-193.5\" rx=\"27\" ry=\"18\"/>\n",
       "<text text-anchor=\"middle\" x=\"139\" y=\"-188.07\" font-family=\"Times New Roman,serif\" font-size=\"14.00\">x2</text>\n",
       "</g>\n",
       "<!-- x3 -->\n",
       "<g id=\"node4\" class=\"node\">\n",
       "<title>x3</title>\n",
       "<ellipse fill=\"none\" stroke=\"black\" cx=\"99\" cy=\"-105.75\" rx=\"27\" ry=\"18\"/>\n",
       "<text text-anchor=\"middle\" x=\"99\" y=\"-100.33\" font-family=\"Times New Roman,serif\" font-size=\"14.00\">x3</text>\n",
       "</g>\n",
       "<!-- x2&#45;&gt;x3 -->\n",
       "<g id=\"edge2\" class=\"edge\">\n",
       "<title>x2&#45;&gt;x3</title>\n",
       "<path fill=\"none\" stroke=\"black\" d=\"M129.45,-176.34C126.13,-170.49 122.5,-163.78 119.5,-157.5 115.92,-150.01 112.4,-141.73 109.31,-134.06\"/>\n",
       "<polygon fill=\"black\" stroke=\"black\" points=\"112.6,-132.87 105.69,-124.84 106.08,-135.43 112.6,-132.87\"/>\n",
       "<text text-anchor=\"middle\" x=\"133.25\" y=\"-144.2\" font-family=\"Times New Roman,serif\" font-size=\"14.00\">&#45;3.00</text>\n",
       "</g>\n",
       "<!-- x4 -->\n",
       "<g id=\"node5\" class=\"node\">\n",
       "<title>x4</title>\n",
       "<ellipse fill=\"none\" stroke=\"black\" cx=\"130\" cy=\"-18\" rx=\"27\" ry=\"18\"/>\n",
       "<text text-anchor=\"middle\" x=\"130\" y=\"-12.57\" font-family=\"Times New Roman,serif\" font-size=\"14.00\">x4</text>\n",
       "</g>\n",
       "<!-- x2&#45;&gt;x4 -->\n",
       "<g id=\"edge3\" class=\"edge\">\n",
       "<title>x2&#45;&gt;x4</title>\n",
       "<path fill=\"none\" stroke=\"black\" d=\"M144.27,-175.58C145.79,-169.89 147.24,-163.48 148,-157.5 151.33,-131.22 159.3,-118.08 145,-54 144.4,-51.33 143.61,-48.61 142.7,-45.93\"/>\n",
       "<polygon fill=\"black\" stroke=\"black\" points=\"145.98,-44.72 139.04,-36.72 139.48,-47.31 145.98,-44.72\"/>\n",
       "<text text-anchor=\"middle\" x=\"165\" y=\"-100.33\" font-family=\"Times New Roman,serif\" font-size=\"14.00\">2.02</text>\n",
       "</g>\n",
       "<!-- x3&#45;&gt;x4 -->\n",
       "<g id=\"edge4\" class=\"edge\">\n",
       "<title>x3&#45;&gt;x4</title>\n",
       "<path fill=\"none\" stroke=\"black\" d=\"M105.12,-87.81C109.37,-76.06 115.12,-60.16 120.02,-46.6\"/>\n",
       "<polygon fill=\"black\" stroke=\"black\" points=\"123.27,-47.92 123.37,-37.33 116.68,-45.54 123.27,-47.92\"/>\n",
       "<text text-anchor=\"middle\" x=\"129\" y=\"-56.45\" font-family=\"Times New Roman,serif\" font-size=\"14.00\">2.01</text>\n",
       "</g>\n",
       "</g>\n",
       "</svg>\n"
      ],
      "text/plain": [
       "<graphviz.graphs.Digraph at 0x1e1af95ce90>"
      ]
     },
     "execution_count": 25,
     "metadata": {},
     "output_type": "execute_result"
    }
   ],
   "source": [
    "model = lingam.DirectLiNGAM()\n",
    "model.fit(X_removed)\n",
    "print(model.causal_order_)\n",
    "print(model.adjacency_matrix_)\n",
    "make_dot(model.adjacency_matrix_)"
   ]
  },
  {
   "cell_type": "markdown",
   "metadata": {},
   "source": [
    "To add causal coefficients from variables whose effects have been removed, regression for each variable may be performed."
   ]
  },
  {
   "cell_type": "code",
   "execution_count": 26,
   "metadata": {
    "ExecuteTime": {
     "end_time": "2021-06-25T06:55:41.548907Z",
     "start_time": "2021-06-25T06:55:41.523184Z"
    }
   },
   "outputs": [],
   "source": [
    "from sklearn import linear_model\n",
    "from sklearn.utils import check_array\n",
    "\n",
    "def get_reg_coef(X, features, target, gamma=1.0):\n",
    "    X = np.copy(check_array(X))\n",
    "    lr = linear_model.LinearRegression()\n",
    "    lr.fit(X[:, features], X[:, target])\n",
    "    weight = np.power(np.abs(lr.coef_), gamma)\n",
    "    reg = linear_model.LassoLarsIC(criterion='bic')\n",
    "    reg.fit(X[:, features] * weight, X[:, target])\n",
    "    return reg.coef_ * weight"
   ]
  },
  {
   "cell_type": "code",
   "execution_count": 27,
   "metadata": {
    "ExecuteTime": {
     "end_time": "2021-06-25T06:55:41.955434Z",
     "start_time": "2021-06-25T06:55:41.557897Z"
    }
   },
   "outputs": [
    {
     "name": "stdout",
     "output_type": "stream",
     "text": [
      "[[ 0.     0.     0.     0.     0.   ]\n",
      " [ 0.493  0.     0.     0.     0.   ]\n",
      " [ 3.987 -0.99   0.     0.     0.   ]\n",
      " [ 2.015  0.    -2.998  0.     0.   ]\n",
      " [ 0.     0.989  2.023  2.012  0.   ]]\n"
     ]
    },
    {
     "data": {
      "image/svg+xml": [
       "<?xml version=\"1.0\" encoding=\"UTF-8\" standalone=\"no\"?>\n",
       "<!DOCTYPE svg PUBLIC \"-//W3C//DTD SVG 1.1//EN\"\n",
       " \"http://www.w3.org/Graphics/SVG/1.1/DTD/svg11.dtd\">\n",
       "<!-- Generated by graphviz version 11.0.0 (20240428.1522)\n",
       " -->\n",
       "<!-- Pages: 1 -->\n",
       "<svg width=\"164pt\" height=\"395pt\"\n",
       " viewBox=\"0.00 0.00 164.00 395.00\" xmlns=\"http://www.w3.org/2000/svg\" xmlns:xlink=\"http://www.w3.org/1999/xlink\">\n",
       "<g id=\"graph0\" class=\"graph\" transform=\"scale(1 1) rotate(0) translate(4 391)\">\n",
       "<polygon fill=\"white\" stroke=\"none\" points=\"-4,4 -4,-391 160,-391 160,4 -4,4\"/>\n",
       "<!-- x0 -->\n",
       "<g id=\"node1\" class=\"node\">\n",
       "<title>x0</title>\n",
       "<ellipse fill=\"none\" stroke=\"black\" cx=\"90\" cy=\"-369\" rx=\"27\" ry=\"18\"/>\n",
       "<text text-anchor=\"middle\" x=\"90\" y=\"-363.57\" font-family=\"Times New Roman,serif\" font-size=\"14.00\">x0</text>\n",
       "</g>\n",
       "<!-- x1 -->\n",
       "<g id=\"node2\" class=\"node\">\n",
       "<title>x1</title>\n",
       "<ellipse fill=\"none\" stroke=\"black\" cx=\"27\" cy=\"-281.25\" rx=\"27\" ry=\"18\"/>\n",
       "<text text-anchor=\"middle\" x=\"27\" y=\"-275.82\" font-family=\"Times New Roman,serif\" font-size=\"14.00\">x1</text>\n",
       "</g>\n",
       "<!-- x0&#45;&gt;x1 -->\n",
       "<g id=\"edge1\" class=\"edge\">\n",
       "<title>x0&#45;&gt;x1</title>\n",
       "<path fill=\"none\" stroke=\"black\" d=\"M73.17,-354.87C66.04,-348.75 58.02,-341.04 52,-333 46.66,-325.86 41.97,-317.41 38.13,-309.47\"/>\n",
       "<polygon fill=\"black\" stroke=\"black\" points=\"41.39,-308.17 34.07,-300.51 35.01,-311.06 41.39,-308.17\"/>\n",
       "<text text-anchor=\"middle\" x=\"64\" y=\"-319.7\" font-family=\"Times New Roman,serif\" font-size=\"14.00\">0.49</text>\n",
       "</g>\n",
       "<!-- x2 -->\n",
       "<g id=\"node3\" class=\"node\">\n",
       "<title>x2</title>\n",
       "<ellipse fill=\"none\" stroke=\"black\" cx=\"78\" cy=\"-193.5\" rx=\"27\" ry=\"18\"/>\n",
       "<text text-anchor=\"middle\" x=\"78\" y=\"-188.07\" font-family=\"Times New Roman,serif\" font-size=\"14.00\">x2</text>\n",
       "</g>\n",
       "<!-- x0&#45;&gt;x2 -->\n",
       "<g id=\"edge2\" class=\"edge\">\n",
       "<title>x0&#45;&gt;x2</title>\n",
       "<path fill=\"none\" stroke=\"black\" d=\"M88.81,-350.73C86.74,-320.93 82.5,-259.55 79.99,-223.23\"/>\n",
       "<polygon fill=\"black\" stroke=\"black\" points=\"83.49,-223.2 79.31,-213.47 76.51,-223.69 83.49,-223.2\"/>\n",
       "<text text-anchor=\"middle\" x=\"97\" y=\"-275.82\" font-family=\"Times New Roman,serif\" font-size=\"14.00\">3.99</text>\n",
       "</g>\n",
       "<!-- x3 -->\n",
       "<g id=\"node4\" class=\"node\">\n",
       "<title>x3</title>\n",
       "<ellipse fill=\"none\" stroke=\"black\" cx=\"129\" cy=\"-105.75\" rx=\"27\" ry=\"18\"/>\n",
       "<text text-anchor=\"middle\" x=\"129\" y=\"-100.33\" font-family=\"Times New Roman,serif\" font-size=\"14.00\">x3</text>\n",
       "</g>\n",
       "<!-- x0&#45;&gt;x3 -->\n",
       "<g id=\"edge4\" class=\"edge\">\n",
       "<title>x0&#45;&gt;x3</title>\n",
       "<path fill=\"none\" stroke=\"black\" d=\"M96.71,-351.33C101.97,-337.59 109.04,-317.45 113,-299.25 125.44,-242.03 128.36,-173.32 128.95,-135.4\"/>\n",
       "<polygon fill=\"black\" stroke=\"black\" points=\"132.45,-135.78 129.05,-125.74 125.45,-135.71 132.45,-135.78\"/>\n",
       "<text text-anchor=\"middle\" x=\"135\" y=\"-231.95\" font-family=\"Times New Roman,serif\" font-size=\"14.00\">2.01</text>\n",
       "</g>\n",
       "<!-- x1&#45;&gt;x2 -->\n",
       "<g id=\"edge3\" class=\"edge\">\n",
       "<title>x1&#45;&gt;x2</title>\n",
       "<path fill=\"none\" stroke=\"black\" d=\"M32.31,-263.12C35.85,-252.95 41.04,-240.03 47.5,-229.5 50.01,-225.4 53.01,-221.32 56.13,-217.46\"/>\n",
       "<polygon fill=\"black\" stroke=\"black\" points=\"58.58,-219.97 62.47,-210.11 53.29,-215.4 58.58,-219.97\"/>\n",
       "<text text-anchor=\"middle\" x=\"62.25\" y=\"-231.95\" font-family=\"Times New Roman,serif\" font-size=\"14.00\">&#45;0.99</text>\n",
       "</g>\n",
       "<!-- x4 -->\n",
       "<g id=\"node5\" class=\"node\">\n",
       "<title>x4</title>\n",
       "<ellipse fill=\"none\" stroke=\"black\" cx=\"60\" cy=\"-18\" rx=\"27\" ry=\"18\"/>\n",
       "<text text-anchor=\"middle\" x=\"60\" y=\"-12.57\" font-family=\"Times New Roman,serif\" font-size=\"14.00\">x4</text>\n",
       "</g>\n",
       "<!-- x1&#45;&gt;x4 -->\n",
       "<g id=\"edge6\" class=\"edge\">\n",
       "<title>x1&#45;&gt;x4</title>\n",
       "<path fill=\"none\" stroke=\"black\" d=\"M28.85,-263.18C31.7,-237.02 37.45,-185.45 43,-141.75 47.12,-109.29 52.35,-72.06 55.91,-47.2\"/>\n",
       "<polygon fill=\"black\" stroke=\"black\" points=\"59.34,-47.96 57.3,-37.56 52.41,-46.96 59.34,-47.96\"/>\n",
       "<text text-anchor=\"middle\" x=\"55\" y=\"-144.2\" font-family=\"Times New Roman,serif\" font-size=\"14.00\">0.99</text>\n",
       "</g>\n",
       "<!-- x2&#45;&gt;x3 -->\n",
       "<g id=\"edge5\" class=\"edge\">\n",
       "<title>x2&#45;&gt;x3</title>\n",
       "<path fill=\"none\" stroke=\"black\" d=\"M83.77,-175.42C87.55,-165.27 92.99,-152.35 99.5,-141.75 101.91,-137.82 104.74,-133.88 107.68,-130.13\"/>\n",
       "<polygon fill=\"black\" stroke=\"black\" points=\"110.34,-132.41 114.05,-122.49 104.96,-127.92 110.34,-132.41\"/>\n",
       "<text text-anchor=\"middle\" x=\"113.25\" y=\"-144.2\" font-family=\"Times New Roman,serif\" font-size=\"14.00\">&#45;3.00</text>\n",
       "</g>\n",
       "<!-- x2&#45;&gt;x4 -->\n",
       "<g id=\"edge7\" class=\"edge\">\n",
       "<title>x2&#45;&gt;x4</title>\n",
       "<path fill=\"none\" stroke=\"black\" d=\"M75.53,-175.29C73.59,-161.4 70.91,-141.34 69,-123.75 66.22,-98.11 63.77,-68.87 62.13,-47.81\"/>\n",
       "<polygon fill=\"black\" stroke=\"black\" points=\"65.63,-47.66 61.38,-37.95 58.65,-48.19 65.63,-47.66\"/>\n",
       "<text text-anchor=\"middle\" x=\"81\" y=\"-100.33\" font-family=\"Times New Roman,serif\" font-size=\"14.00\">2.02</text>\n",
       "</g>\n",
       "<!-- x3&#45;&gt;x4 -->\n",
       "<g id=\"edge8\" class=\"edge\">\n",
       "<title>x3&#45;&gt;x4</title>\n",
       "<path fill=\"none\" stroke=\"black\" d=\"M116.66,-89.42C106.33,-76.57 91.39,-58.01 79.44,-43.16\"/>\n",
       "<polygon fill=\"black\" stroke=\"black\" points=\"82.41,-41.26 73.41,-35.67 76.95,-45.65 82.41,-41.26\"/>\n",
       "<text text-anchor=\"middle\" x=\"112\" y=\"-56.45\" font-family=\"Times New Roman,serif\" font-size=\"14.00\">2.01</text>\n",
       "</g>\n",
       "</g>\n",
       "</svg>\n"
      ],
      "text/plain": [
       "<graphviz.graphs.Digraph at 0x1e1b250b710>"
      ]
     },
     "execution_count": 27,
     "metadata": {},
     "output_type": "execute_result"
    }
   ],
   "source": [
    "B = model.adjacency_matrix_.copy()\n",
    "B[2, 0], B[2, 1] = get_reg_coef(X, [0, 1], 2)\n",
    "B[3, 0], B[3, 1], _ = get_reg_coef(X, [0, 1, 2], 3)\n",
    "B[4, 0], B[4, 1], _, _ = get_reg_coef(X, [0, 1, 2, 3], 4)\n",
    "print(B)\n",
    "make_dot(B, lower_limit=0.1) # To align the display, the causal direction of small coefficients is excluded."
   ]
  },
  {
   "cell_type": "markdown",
   "metadata": {},
   "source": [
    "## get_sink_variables\n",
    "By using the `get_sink_variables()` method, we can get the sink variables in the adjacent matrix."
   ]
  },
  {
   "cell_type": "code",
   "execution_count": 28,
   "metadata": {
    "ExecuteTime": {
     "end_time": "2021-06-25T06:55:42.324455Z",
     "start_time": "2021-06-25T06:55:41.958425Z"
    }
   },
   "outputs": [
    {
     "data": {
      "image/svg+xml": [
       "<?xml version=\"1.0\" encoding=\"UTF-8\" standalone=\"no\"?>\n",
       "<!DOCTYPE svg PUBLIC \"-//W3C//DTD SVG 1.1//EN\"\n",
       " \"http://www.w3.org/Graphics/SVG/1.1/DTD/svg11.dtd\">\n",
       "<!-- Generated by graphviz version 11.0.0 (20240428.1522)\n",
       " -->\n",
       "<!-- Pages: 1 -->\n",
       "<svg width=\"164pt\" height=\"395pt\"\n",
       " viewBox=\"0.00 0.00 164.00 395.00\" xmlns=\"http://www.w3.org/2000/svg\" xmlns:xlink=\"http://www.w3.org/1999/xlink\">\n",
       "<g id=\"graph0\" class=\"graph\" transform=\"scale(1 1) rotate(0) translate(4 391)\">\n",
       "<polygon fill=\"white\" stroke=\"none\" points=\"-4,4 -4,-391 160,-391 160,4 -4,4\"/>\n",
       "<!-- x0 -->\n",
       "<g id=\"node1\" class=\"node\">\n",
       "<title>x0</title>\n",
       "<ellipse fill=\"none\" stroke=\"black\" cx=\"90\" cy=\"-369\" rx=\"27\" ry=\"18\"/>\n",
       "<text text-anchor=\"middle\" x=\"90\" y=\"-363.57\" font-family=\"Times New Roman,serif\" font-size=\"14.00\">x0</text>\n",
       "</g>\n",
       "<!-- x1 -->\n",
       "<g id=\"node2\" class=\"node\">\n",
       "<title>x1</title>\n",
       "<ellipse fill=\"none\" stroke=\"black\" cx=\"27\" cy=\"-281.25\" rx=\"27\" ry=\"18\"/>\n",
       "<text text-anchor=\"middle\" x=\"27\" y=\"-275.82\" font-family=\"Times New Roman,serif\" font-size=\"14.00\">x1</text>\n",
       "</g>\n",
       "<!-- x0&#45;&gt;x1 -->\n",
       "<g id=\"edge1\" class=\"edge\">\n",
       "<title>x0&#45;&gt;x1</title>\n",
       "<path fill=\"none\" stroke=\"black\" d=\"M73.17,-354.87C66.04,-348.75 58.02,-341.04 52,-333 46.66,-325.86 41.97,-317.41 38.13,-309.47\"/>\n",
       "<polygon fill=\"black\" stroke=\"black\" points=\"41.39,-308.17 34.07,-300.51 35.01,-311.06 41.39,-308.17\"/>\n",
       "<text text-anchor=\"middle\" x=\"64\" y=\"-319.7\" font-family=\"Times New Roman,serif\" font-size=\"14.00\">0.50</text>\n",
       "</g>\n",
       "<!-- x2 -->\n",
       "<g id=\"node3\" class=\"node\">\n",
       "<title>x2</title>\n",
       "<ellipse fill=\"none\" stroke=\"black\" cx=\"78\" cy=\"-193.5\" rx=\"27\" ry=\"18\"/>\n",
       "<text text-anchor=\"middle\" x=\"78\" y=\"-188.07\" font-family=\"Times New Roman,serif\" font-size=\"14.00\">x2</text>\n",
       "</g>\n",
       "<!-- x0&#45;&gt;x2 -->\n",
       "<g id=\"edge2\" class=\"edge\">\n",
       "<title>x0&#45;&gt;x2</title>\n",
       "<path fill=\"none\" stroke=\"black\" d=\"M88.81,-350.73C86.74,-320.93 82.5,-259.55 79.99,-223.23\"/>\n",
       "<polygon fill=\"black\" stroke=\"black\" points=\"83.49,-223.2 79.31,-213.47 76.51,-223.69 83.49,-223.2\"/>\n",
       "<text text-anchor=\"middle\" x=\"97\" y=\"-275.82\" font-family=\"Times New Roman,serif\" font-size=\"14.00\">4.00</text>\n",
       "</g>\n",
       "<!-- x3 -->\n",
       "<g id=\"node4\" class=\"node\">\n",
       "<title>x3</title>\n",
       "<ellipse fill=\"none\" stroke=\"black\" cx=\"129\" cy=\"-105.75\" rx=\"27\" ry=\"18\"/>\n",
       "<text text-anchor=\"middle\" x=\"129\" y=\"-100.33\" font-family=\"Times New Roman,serif\" font-size=\"14.00\">x3</text>\n",
       "</g>\n",
       "<!-- x0&#45;&gt;x3 -->\n",
       "<g id=\"edge4\" class=\"edge\">\n",
       "<title>x0&#45;&gt;x3</title>\n",
       "<path fill=\"none\" stroke=\"black\" d=\"M96.71,-351.33C101.97,-337.59 109.04,-317.45 113,-299.25 125.44,-242.03 128.36,-173.32 128.95,-135.4\"/>\n",
       "<polygon fill=\"black\" stroke=\"black\" points=\"132.45,-135.78 129.05,-125.74 125.45,-135.71 132.45,-135.78\"/>\n",
       "<text text-anchor=\"middle\" x=\"135\" y=\"-231.95\" font-family=\"Times New Roman,serif\" font-size=\"14.00\">2.00</text>\n",
       "</g>\n",
       "<!-- x1&#45;&gt;x2 -->\n",
       "<g id=\"edge3\" class=\"edge\">\n",
       "<title>x1&#45;&gt;x2</title>\n",
       "<path fill=\"none\" stroke=\"black\" d=\"M32.31,-263.12C35.85,-252.95 41.04,-240.03 47.5,-229.5 50.01,-225.4 53.01,-221.32 56.13,-217.46\"/>\n",
       "<polygon fill=\"black\" stroke=\"black\" points=\"58.58,-219.97 62.47,-210.11 53.29,-215.4 58.58,-219.97\"/>\n",
       "<text text-anchor=\"middle\" x=\"62.25\" y=\"-231.95\" font-family=\"Times New Roman,serif\" font-size=\"14.00\">&#45;1.00</text>\n",
       "</g>\n",
       "<!-- x4 -->\n",
       "<g id=\"node5\" class=\"node\">\n",
       "<title>x4</title>\n",
       "<ellipse fill=\"none\" stroke=\"black\" cx=\"60\" cy=\"-18\" rx=\"27\" ry=\"18\"/>\n",
       "<text text-anchor=\"middle\" x=\"60\" y=\"-12.57\" font-family=\"Times New Roman,serif\" font-size=\"14.00\">x4</text>\n",
       "</g>\n",
       "<!-- x1&#45;&gt;x4 -->\n",
       "<g id=\"edge6\" class=\"edge\">\n",
       "<title>x1&#45;&gt;x4</title>\n",
       "<path fill=\"none\" stroke=\"black\" d=\"M28.85,-263.18C31.7,-237.02 37.45,-185.45 43,-141.75 47.12,-109.29 52.35,-72.06 55.91,-47.2\"/>\n",
       "<polygon fill=\"black\" stroke=\"black\" points=\"59.34,-47.96 57.3,-37.56 52.41,-46.96 59.34,-47.96\"/>\n",
       "<text text-anchor=\"middle\" x=\"55\" y=\"-144.2\" font-family=\"Times New Roman,serif\" font-size=\"14.00\">1.00</text>\n",
       "</g>\n",
       "<!-- x2&#45;&gt;x3 -->\n",
       "<g id=\"edge5\" class=\"edge\">\n",
       "<title>x2&#45;&gt;x3</title>\n",
       "<path fill=\"none\" stroke=\"black\" d=\"M83.77,-175.42C87.55,-165.27 92.99,-152.35 99.5,-141.75 101.91,-137.82 104.74,-133.88 107.68,-130.13\"/>\n",
       "<polygon fill=\"black\" stroke=\"black\" points=\"110.34,-132.41 114.05,-122.49 104.96,-127.92 110.34,-132.41\"/>\n",
       "<text text-anchor=\"middle\" x=\"113.25\" y=\"-144.2\" font-family=\"Times New Roman,serif\" font-size=\"14.00\">&#45;3.00</text>\n",
       "</g>\n",
       "<!-- x2&#45;&gt;x4 -->\n",
       "<g id=\"edge7\" class=\"edge\">\n",
       "<title>x2&#45;&gt;x4</title>\n",
       "<path fill=\"none\" stroke=\"black\" d=\"M75.53,-175.29C73.59,-161.4 70.91,-141.34 69,-123.75 66.22,-98.11 63.77,-68.87 62.13,-47.81\"/>\n",
       "<polygon fill=\"black\" stroke=\"black\" points=\"65.63,-47.66 61.38,-37.95 58.65,-48.19 65.63,-47.66\"/>\n",
       "<text text-anchor=\"middle\" x=\"81\" y=\"-100.33\" font-family=\"Times New Roman,serif\" font-size=\"14.00\">2.00</text>\n",
       "</g>\n",
       "<!-- x3&#45;&gt;x4 -->\n",
       "<g id=\"edge8\" class=\"edge\">\n",
       "<title>x3&#45;&gt;x4</title>\n",
       "<path fill=\"none\" stroke=\"black\" d=\"M116.66,-89.42C106.33,-76.57 91.39,-58.01 79.44,-43.16\"/>\n",
       "<polygon fill=\"black\" stroke=\"black\" points=\"82.41,-41.26 73.41,-35.67 76.95,-45.65 82.41,-41.26\"/>\n",
       "<text text-anchor=\"middle\" x=\"112\" y=\"-56.45\" font-family=\"Times New Roman,serif\" font-size=\"14.00\">2.00</text>\n",
       "</g>\n",
       "</g>\n",
       "</svg>\n"
      ],
      "text/plain": [
       "<graphviz.graphs.Digraph at 0x1e1b1abb690>"
      ]
     },
     "execution_count": 28,
     "metadata": {},
     "output_type": "execute_result"
    }
   ],
   "source": [
    "m = np.array([[0.0, 0.0, 0.0, 0.0, 0.0],\n",
    "              [0.5, 0.0, 0.0, 0.0, 0.0],\n",
    "              [4.0,-1.0, 0.0, 0.0, 0.0],\n",
    "              [2.0, 0.0,-3.0, 0.0, 0.0],\n",
    "              [0.0, 1.0, 2.0, 2.0, 0.0]])\n",
    "\n",
    "make_dot(m)"
   ]
  },
  {
   "cell_type": "code",
   "execution_count": 29,
   "metadata": {
    "ExecuteTime": {
     "end_time": "2021-06-25T06:55:42.339415Z",
     "start_time": "2021-06-25T06:55:42.328446Z"
    }
   },
   "outputs": [
    {
     "data": {
      "text/plain": [
       "[4]"
      ]
     },
     "execution_count": 29,
     "metadata": {},
     "output_type": "execute_result"
    }
   ],
   "source": [
    "from lingam.utils import get_sink_variables\n",
    "\n",
    "get_sink_variables(m)"
   ]
  },
  {
   "cell_type": "markdown",
   "metadata": {},
   "source": [
    "## get_exo_variables\n",
    "By using the `get_exo_variables()` method, we can get the exogenous variables in the adjacent matrix."
   ]
  },
  {
   "cell_type": "code",
   "execution_count": 30,
   "metadata": {
    "ExecuteTime": {
     "end_time": "2021-06-25T06:55:42.668402Z",
     "start_time": "2021-06-25T06:55:42.343405Z"
    }
   },
   "outputs": [
    {
     "data": {
      "image/svg+xml": [
       "<?xml version=\"1.0\" encoding=\"UTF-8\" standalone=\"no\"?>\r\n",
       "<!DOCTYPE svg PUBLIC \"-//W3C//DTD SVG 1.1//EN\"\r\n",
       " \"http://www.w3.org/Graphics/SVG/1.1/DTD/svg11.dtd\">\r\n",
       "<!-- Generated by graphviz version 2.38.0 (20140413.2041)\r\n",
       " -->\r\n",
       "<!-- Title: %3 Pages: 1 -->\r\n",
       "<svg width=\"166pt\" height=\"392pt\"\r\n",
       " viewBox=\"0.00 0.00 166.00 392.00\" xmlns=\"http://www.w3.org/2000/svg\" xmlns:xlink=\"http://www.w3.org/1999/xlink\">\r\n",
       "<g id=\"graph0\" class=\"graph\" transform=\"scale(1 1) rotate(0) translate(4 388)\">\r\n",
       "<title>%3</title>\r\n",
       "<polygon fill=\"white\" stroke=\"none\" points=\"-4,4 -4,-388 162,-388 162,4 -4,4\"/>\r\n",
       "<!-- x0 -->\r\n",
       "<g id=\"node1\" class=\"node\"><title>x0</title>\r\n",
       "<ellipse fill=\"none\" stroke=\"black\" cx=\"90\" cy=\"-366\" rx=\"27\" ry=\"18\"/>\r\n",
       "<text text-anchor=\"middle\" x=\"90\" y=\"-362.3\" font-family=\"Times New Roman,serif\" font-size=\"14.00\">x0</text>\r\n",
       "</g>\r\n",
       "<!-- x1 -->\r\n",
       "<g id=\"node2\" class=\"node\"><title>x1</title>\r\n",
       "<ellipse fill=\"none\" stroke=\"black\" cx=\"27\" cy=\"-279\" rx=\"27\" ry=\"18\"/>\r\n",
       "<text text-anchor=\"middle\" x=\"27\" y=\"-275.3\" font-family=\"Times New Roman,serif\" font-size=\"14.00\">x1</text>\r\n",
       "</g>\r\n",
       "<!-- x0&#45;&gt;x1 -->\r\n",
       "<g id=\"edge1\" class=\"edge\"><title>x0&#45;&gt;x1</title>\r\n",
       "<path fill=\"none\" stroke=\"black\" d=\"M72.6656,-351.974C65.3423,-345.87 57.1133,-338.152 51,-330 45.5787,-322.771 40.907,-314.123 37.1637,-306.068\"/>\r\n",
       "<polygon fill=\"black\" stroke=\"black\" points=\"40.273,-304.441 33.0704,-296.671 33.8555,-307.237 40.273,-304.441\"/>\r\n",
       "<text text-anchor=\"middle\" x=\"63.5\" y=\"-318.8\" font-family=\"Times New Roman,serif\" font-size=\"14.00\">0.50</text>\r\n",
       "</g>\r\n",
       "<!-- x2 -->\r\n",
       "<g id=\"node3\" class=\"node\"><title>x2</title>\r\n",
       "<ellipse fill=\"none\" stroke=\"black\" cx=\"78\" cy=\"-192\" rx=\"27\" ry=\"18\"/>\r\n",
       "<text text-anchor=\"middle\" x=\"78\" y=\"-188.3\" font-family=\"Times New Roman,serif\" font-size=\"14.00\">x2</text>\r\n",
       "</g>\r\n",
       "<!-- x0&#45;&gt;x2 -->\r\n",
       "<g id=\"edge2\" class=\"edge\"><title>x0&#45;&gt;x2</title>\r\n",
       "<path fill=\"none\" stroke=\"black\" d=\"M88.8055,-347.879C86.721,-318.001 82.4032,-256.113 79.9028,-220.274\"/>\r\n",
       "<polygon fill=\"black\" stroke=\"black\" points=\"83.3772,-219.784 79.1896,-210.052 76.3942,-220.271 83.3772,-219.784\"/>\r\n",
       "<text text-anchor=\"middle\" x=\"97.5\" y=\"-275.3\" font-family=\"Times New Roman,serif\" font-size=\"14.00\">4.00</text>\r\n",
       "</g>\r\n",
       "<!-- x3 -->\r\n",
       "<g id=\"node4\" class=\"node\"><title>x3</title>\r\n",
       "<ellipse fill=\"none\" stroke=\"black\" cx=\"131\" cy=\"-105\" rx=\"27\" ry=\"18\"/>\r\n",
       "<text text-anchor=\"middle\" x=\"131\" y=\"-101.3\" font-family=\"Times New Roman,serif\" font-size=\"14.00\">x3</text>\r\n",
       "</g>\r\n",
       "<!-- x0&#45;&gt;x3 -->\r\n",
       "<g id=\"edge4\" class=\"edge\"><title>x0&#45;&gt;x3</title>\r\n",
       "<path fill=\"none\" stroke=\"black\" d=\"M97.026,-348.553C102.527,-334.975 109.909,-315.071 114,-297 126.979,-239.669 130.141,-170.56 130.854,-133.194\"/>\r\n",
       "<polygon fill=\"black\" stroke=\"black\" points=\"134.355,-133.148 131.001,-123.099 127.356,-133.047 134.355,-133.148\"/>\r\n",
       "<text text-anchor=\"middle\" x=\"136.5\" y=\"-231.8\" font-family=\"Times New Roman,serif\" font-size=\"14.00\">2.00</text>\r\n",
       "</g>\r\n",
       "<!-- x1&#45;&gt;x2 -->\r\n",
       "<g id=\"edge3\" class=\"edge\"><title>x1&#45;&gt;x2</title>\r\n",
       "<path fill=\"none\" stroke=\"black\" d=\"M32.1286,-261.104C35.5617,-251.077 40.6194,-238.344 47,-228 49.7525,-223.537 53.0896,-219.099 56.5411,-214.956\"/>\r\n",
       "<polygon fill=\"black\" stroke=\"black\" points=\"59.1968,-217.236 63.1956,-207.425 53.9512,-212.601 59.1968,-217.236\"/>\r\n",
       "<text text-anchor=\"middle\" x=\"61.5\" y=\"-231.8\" font-family=\"Times New Roman,serif\" font-size=\"14.00\">&#45;1.00</text>\r\n",
       "</g>\r\n",
       "<!-- x4 -->\r\n",
       "<g id=\"node5\" class=\"node\"><title>x4</title>\r\n",
       "<ellipse fill=\"none\" stroke=\"black\" cx=\"61\" cy=\"-18\" rx=\"27\" ry=\"18\"/>\r\n",
       "<text text-anchor=\"middle\" x=\"61\" y=\"-14.3\" font-family=\"Times New Roman,serif\" font-size=\"14.00\">x4</text>\r\n",
       "</g>\r\n",
       "<!-- x1&#45;&gt;x4 -->\r\n",
       "<g id=\"edge6\" class=\"edge\"><title>x1&#45;&gt;x4</title>\r\n",
       "<path fill=\"none\" stroke=\"black\" d=\"M28.8532,-260.678C31.6749,-234.663 37.3223,-183.969 43,-141 47.3242,-108.274 52.969,-70.714 56.7751,-46.0139\"/>\r\n",
       "<polygon fill=\"black\" stroke=\"black\" points=\"60.2618,-46.3685 58.3337,-35.9506 53.3443,-45.2971 60.2618,-46.3685\"/>\r\n",
       "<text text-anchor=\"middle\" x=\"55.5\" y=\"-144.8\" font-family=\"Times New Roman,serif\" font-size=\"14.00\">1.00</text>\r\n",
       "</g>\r\n",
       "<!-- x2&#45;&gt;x3 -->\r\n",
       "<g id=\"edge5\" class=\"edge\"><title>x2&#45;&gt;x3</title>\r\n",
       "<path fill=\"none\" stroke=\"black\" d=\"M83.9095,-174.131C87.7809,-164.113 93.3502,-151.382 100,-141 102.828,-136.585 106.202,-132.17 109.668,-128.035\"/>\r\n",
       "<polygon fill=\"black\" stroke=\"black\" points=\"112.323,-130.316 116.323,-120.505 107.078,-125.68 112.323,-130.316\"/>\r\n",
       "<text text-anchor=\"middle\" x=\"114.5\" y=\"-144.8\" font-family=\"Times New Roman,serif\" font-size=\"14.00\">&#45;3.00</text>\r\n",
       "</g>\r\n",
       "<!-- x2&#45;&gt;x4 -->\r\n",
       "<g id=\"edge7\" class=\"edge\"><title>x2&#45;&gt;x4</title>\r\n",
       "<path fill=\"none\" stroke=\"black\" d=\"M75.8491,-173.969C74.1488,-160.225 71.7743,-140.384 70,-123 67.3517,-97.0532 64.8367,-67.4121 63.142,-46.4303\"/>\r\n",
       "<polygon fill=\"black\" stroke=\"black\" points=\"66.6191,-46.0026 62.3343,-36.3129 59.6413,-46.5598 66.6191,-46.0026\"/>\r\n",
       "<text text-anchor=\"middle\" x=\"82.5\" y=\"-101.3\" font-family=\"Times New Roman,serif\" font-size=\"14.00\">2.00</text>\r\n",
       "</g>\r\n",
       "<!-- x3&#45;&gt;x4 -->\r\n",
       "<g id=\"edge8\" class=\"edge\"><title>x3&#45;&gt;x4</title>\r\n",
       "<path fill=\"none\" stroke=\"black\" d=\"M118.485,-88.8037C107.735,-75.7495 92.0762,-56.7354 79.8154,-41.8473\"/>\r\n",
       "<polygon fill=\"black\" stroke=\"black\" points=\"82.4651,-39.5591 73.4063,-34.0647 77.0616,-44.009 82.4651,-39.5591\"/>\r\n",
       "<text text-anchor=\"middle\" x=\"112.5\" y=\"-57.8\" font-family=\"Times New Roman,serif\" font-size=\"14.00\">2.00</text>\r\n",
       "</g>\r\n",
       "</g>\r\n",
       "</svg>\r\n"
      ],
      "text/plain": [
       "<graphviz.dot.Digraph at 0x18b2f4a3dd8>"
      ]
     },
     "execution_count": 30,
     "metadata": {},
     "output_type": "execute_result"
    }
   ],
   "source": [
    "m = np.array([[0.0, 0.0, 0.0, 0.0, 0.0],\n",
    "              [0.5, 0.0, 0.0, 0.0, 0.0],\n",
    "              [4.0,-1.0, 0.0, 0.0, 0.0],\n",
    "              [2.0, 0.0,-3.0, 0.0, 0.0],\n",
    "              [0.0, 1.0, 2.0, 2.0, 0.0]])\n",
    "\n",
    "make_dot(m)"
   ]
  },
  {
   "cell_type": "code",
   "execution_count": 31,
   "metadata": {
    "ExecuteTime": {
     "end_time": "2021-06-25T06:55:42.687814Z",
     "start_time": "2021-06-25T06:55:42.671277Z"
    }
   },
   "outputs": [
    {
     "data": {
      "text/plain": [
       "[0]"
      ]
     },
     "execution_count": 31,
     "metadata": {},
     "output_type": "execute_result"
    }
   ],
   "source": [
    "from lingam.utils import get_exo_variables\n",
    "\n",
    "get_exo_variables(m)"
   ]
  },
  {
   "cell_type": "markdown",
   "metadata": {},
   "source": [
    "## find_all_paths\n",
    "Using the `find_all_paths()` method, we can explore all paths from any variable to any variable."
   ]
  },
  {
   "cell_type": "code",
   "execution_count": 32,
   "metadata": {
    "ExecuteTime": {
     "end_time": "2021-06-25T06:55:43.056217Z",
     "start_time": "2021-06-25T06:55:42.691803Z"
    }
   },
   "outputs": [
    {
     "data": {
      "image/svg+xml": [
       "<?xml version=\"1.0\" encoding=\"UTF-8\" standalone=\"no\"?>\r\n",
       "<!DOCTYPE svg PUBLIC \"-//W3C//DTD SVG 1.1//EN\"\r\n",
       " \"http://www.w3.org/Graphics/SVG/1.1/DTD/svg11.dtd\">\r\n",
       "<!-- Generated by graphviz version 2.38.0 (20140413.2041)\r\n",
       " -->\r\n",
       "<!-- Title: %3 Pages: 1 -->\r\n",
       "<svg width=\"166pt\" height=\"392pt\"\r\n",
       " viewBox=\"0.00 0.00 166.00 392.00\" xmlns=\"http://www.w3.org/2000/svg\" xmlns:xlink=\"http://www.w3.org/1999/xlink\">\r\n",
       "<g id=\"graph0\" class=\"graph\" transform=\"scale(1 1) rotate(0) translate(4 388)\">\r\n",
       "<title>%3</title>\r\n",
       "<polygon fill=\"white\" stroke=\"none\" points=\"-4,4 -4,-388 162,-388 162,4 -4,4\"/>\r\n",
       "<!-- x0 -->\r\n",
       "<g id=\"node1\" class=\"node\"><title>x0</title>\r\n",
       "<ellipse fill=\"none\" stroke=\"black\" cx=\"90\" cy=\"-366\" rx=\"27\" ry=\"18\"/>\r\n",
       "<text text-anchor=\"middle\" x=\"90\" y=\"-362.3\" font-family=\"Times New Roman,serif\" font-size=\"14.00\">x0</text>\r\n",
       "</g>\r\n",
       "<!-- x1 -->\r\n",
       "<g id=\"node2\" class=\"node\"><title>x1</title>\r\n",
       "<ellipse fill=\"none\" stroke=\"black\" cx=\"27\" cy=\"-279\" rx=\"27\" ry=\"18\"/>\r\n",
       "<text text-anchor=\"middle\" x=\"27\" y=\"-275.3\" font-family=\"Times New Roman,serif\" font-size=\"14.00\">x1</text>\r\n",
       "</g>\r\n",
       "<!-- x0&#45;&gt;x1 -->\r\n",
       "<g id=\"edge1\" class=\"edge\"><title>x0&#45;&gt;x1</title>\r\n",
       "<path fill=\"none\" stroke=\"black\" d=\"M72.6656,-351.974C65.3423,-345.87 57.1133,-338.152 51,-330 45.5787,-322.771 40.907,-314.123 37.1637,-306.068\"/>\r\n",
       "<polygon fill=\"black\" stroke=\"black\" points=\"40.273,-304.441 33.0704,-296.671 33.8555,-307.237 40.273,-304.441\"/>\r\n",
       "<text text-anchor=\"middle\" x=\"63.5\" y=\"-318.8\" font-family=\"Times New Roman,serif\" font-size=\"14.00\">0.50</text>\r\n",
       "</g>\r\n",
       "<!-- x2 -->\r\n",
       "<g id=\"node3\" class=\"node\"><title>x2</title>\r\n",
       "<ellipse fill=\"none\" stroke=\"black\" cx=\"78\" cy=\"-192\" rx=\"27\" ry=\"18\"/>\r\n",
       "<text text-anchor=\"middle\" x=\"78\" y=\"-188.3\" font-family=\"Times New Roman,serif\" font-size=\"14.00\">x2</text>\r\n",
       "</g>\r\n",
       "<!-- x0&#45;&gt;x2 -->\r\n",
       "<g id=\"edge2\" class=\"edge\"><title>x0&#45;&gt;x2</title>\r\n",
       "<path fill=\"none\" stroke=\"black\" d=\"M88.8055,-347.879C86.721,-318.001 82.4032,-256.113 79.9028,-220.274\"/>\r\n",
       "<polygon fill=\"black\" stroke=\"black\" points=\"83.3772,-219.784 79.1896,-210.052 76.3942,-220.271 83.3772,-219.784\"/>\r\n",
       "<text text-anchor=\"middle\" x=\"97.5\" y=\"-275.3\" font-family=\"Times New Roman,serif\" font-size=\"14.00\">4.00</text>\r\n",
       "</g>\r\n",
       "<!-- x3 -->\r\n",
       "<g id=\"node4\" class=\"node\"><title>x3</title>\r\n",
       "<ellipse fill=\"none\" stroke=\"black\" cx=\"131\" cy=\"-105\" rx=\"27\" ry=\"18\"/>\r\n",
       "<text text-anchor=\"middle\" x=\"131\" y=\"-101.3\" font-family=\"Times New Roman,serif\" font-size=\"14.00\">x3</text>\r\n",
       "</g>\r\n",
       "<!-- x0&#45;&gt;x3 -->\r\n",
       "<g id=\"edge4\" class=\"edge\"><title>x0&#45;&gt;x3</title>\r\n",
       "<path fill=\"none\" stroke=\"black\" d=\"M97.026,-348.553C102.527,-334.975 109.909,-315.071 114,-297 126.979,-239.669 130.141,-170.56 130.854,-133.194\"/>\r\n",
       "<polygon fill=\"black\" stroke=\"black\" points=\"134.355,-133.148 131.001,-123.099 127.356,-133.047 134.355,-133.148\"/>\r\n",
       "<text text-anchor=\"middle\" x=\"136.5\" y=\"-231.8\" font-family=\"Times New Roman,serif\" font-size=\"14.00\">2.00</text>\r\n",
       "</g>\r\n",
       "<!-- x1&#45;&gt;x2 -->\r\n",
       "<g id=\"edge3\" class=\"edge\"><title>x1&#45;&gt;x2</title>\r\n",
       "<path fill=\"none\" stroke=\"black\" d=\"M32.1286,-261.104C35.5617,-251.077 40.6194,-238.344 47,-228 49.7525,-223.537 53.0896,-219.099 56.5411,-214.956\"/>\r\n",
       "<polygon fill=\"black\" stroke=\"black\" points=\"59.1968,-217.236 63.1956,-207.425 53.9512,-212.601 59.1968,-217.236\"/>\r\n",
       "<text text-anchor=\"middle\" x=\"61.5\" y=\"-231.8\" font-family=\"Times New Roman,serif\" font-size=\"14.00\">&#45;1.00</text>\r\n",
       "</g>\r\n",
       "<!-- x4 -->\r\n",
       "<g id=\"node5\" class=\"node\"><title>x4</title>\r\n",
       "<ellipse fill=\"none\" stroke=\"black\" cx=\"61\" cy=\"-18\" rx=\"27\" ry=\"18\"/>\r\n",
       "<text text-anchor=\"middle\" x=\"61\" y=\"-14.3\" font-family=\"Times New Roman,serif\" font-size=\"14.00\">x4</text>\r\n",
       "</g>\r\n",
       "<!-- x1&#45;&gt;x4 -->\r\n",
       "<g id=\"edge6\" class=\"edge\"><title>x1&#45;&gt;x4</title>\r\n",
       "<path fill=\"none\" stroke=\"black\" d=\"M28.8532,-260.678C31.6749,-234.663 37.3223,-183.969 43,-141 47.3242,-108.274 52.969,-70.714 56.7751,-46.0139\"/>\r\n",
       "<polygon fill=\"black\" stroke=\"black\" points=\"60.2618,-46.3685 58.3337,-35.9506 53.3443,-45.2971 60.2618,-46.3685\"/>\r\n",
       "<text text-anchor=\"middle\" x=\"55.5\" y=\"-144.8\" font-family=\"Times New Roman,serif\" font-size=\"14.00\">1.00</text>\r\n",
       "</g>\r\n",
       "<!-- x2&#45;&gt;x3 -->\r\n",
       "<g id=\"edge5\" class=\"edge\"><title>x2&#45;&gt;x3</title>\r\n",
       "<path fill=\"none\" stroke=\"black\" d=\"M83.9095,-174.131C87.7809,-164.113 93.3502,-151.382 100,-141 102.828,-136.585 106.202,-132.17 109.668,-128.035\"/>\r\n",
       "<polygon fill=\"black\" stroke=\"black\" points=\"112.323,-130.316 116.323,-120.505 107.078,-125.68 112.323,-130.316\"/>\r\n",
       "<text text-anchor=\"middle\" x=\"114.5\" y=\"-144.8\" font-family=\"Times New Roman,serif\" font-size=\"14.00\">&#45;3.00</text>\r\n",
       "</g>\r\n",
       "<!-- x2&#45;&gt;x4 -->\r\n",
       "<g id=\"edge7\" class=\"edge\"><title>x2&#45;&gt;x4</title>\r\n",
       "<path fill=\"none\" stroke=\"black\" d=\"M75.8491,-173.969C74.1488,-160.225 71.7743,-140.384 70,-123 67.3517,-97.0532 64.8367,-67.4121 63.142,-46.4303\"/>\r\n",
       "<polygon fill=\"black\" stroke=\"black\" points=\"66.6191,-46.0026 62.3343,-36.3129 59.6413,-46.5598 66.6191,-46.0026\"/>\r\n",
       "<text text-anchor=\"middle\" x=\"82.5\" y=\"-101.3\" font-family=\"Times New Roman,serif\" font-size=\"14.00\">2.00</text>\r\n",
       "</g>\r\n",
       "<!-- x3&#45;&gt;x4 -->\r\n",
       "<g id=\"edge8\" class=\"edge\"><title>x3&#45;&gt;x4</title>\r\n",
       "<path fill=\"none\" stroke=\"black\" d=\"M118.485,-88.8037C107.735,-75.7495 92.0762,-56.7354 79.8154,-41.8473\"/>\r\n",
       "<polygon fill=\"black\" stroke=\"black\" points=\"82.4651,-39.5591 73.4063,-34.0647 77.0616,-44.009 82.4651,-39.5591\"/>\r\n",
       "<text text-anchor=\"middle\" x=\"112.5\" y=\"-57.8\" font-family=\"Times New Roman,serif\" font-size=\"14.00\">2.00</text>\r\n",
       "</g>\r\n",
       "</g>\r\n",
       "</svg>\r\n"
      ],
      "text/plain": [
       "<graphviz.dot.Digraph at 0x18b344454a8>"
      ]
     },
     "execution_count": 32,
     "metadata": {},
     "output_type": "execute_result"
    }
   ],
   "source": [
    "m = np.array([[0.0, 0.0, 0.0, 0.0, 0.0],\n",
    "              [0.5, 0.0, 0.0, 0.0, 0.0],\n",
    "              [4.0,-1.0, 0.0, 0.0, 0.0],\n",
    "              [2.0, 0.0,-3.0, 0.0, 0.0],\n",
    "              [0.0, 1.0, 2.0, 2.0, 0.0]])\n",
    "\n",
    "make_dot(m)"
   ]
  },
  {
   "cell_type": "code",
   "execution_count": 33,
   "metadata": {
    "ExecuteTime": {
     "end_time": "2021-06-25T06:55:43.088132Z",
     "start_time": "2021-06-25T06:55:43.059211Z"
    }
   },
   "outputs": [
    {
     "data": {
      "text/html": [
       "<div>\n",
       "<style scoped>\n",
       "    .dataframe tbody tr th:only-of-type {\n",
       "        vertical-align: middle;\n",
       "    }\n",
       "\n",
       "    .dataframe tbody tr th {\n",
       "        vertical-align: top;\n",
       "    }\n",
       "\n",
       "    .dataframe thead th {\n",
       "        text-align: right;\n",
       "    }\n",
       "</style>\n",
       "<table border=\"1\" class=\"dataframe\">\n",
       "  <thead>\n",
       "    <tr style=\"text-align: right;\">\n",
       "      <th></th>\n",
       "      <th>path</th>\n",
       "      <th>effect</th>\n",
       "    </tr>\n",
       "  </thead>\n",
       "  <tbody>\n",
       "    <tr>\n",
       "      <th>0</th>\n",
       "      <td>[0, 1, 2, 3, 4]</td>\n",
       "      <td>3.0</td>\n",
       "    </tr>\n",
       "    <tr>\n",
       "      <th>1</th>\n",
       "      <td>[0, 1, 2, 4]</td>\n",
       "      <td>-1.0</td>\n",
       "    </tr>\n",
       "    <tr>\n",
       "      <th>2</th>\n",
       "      <td>[0, 1, 4]</td>\n",
       "      <td>0.5</td>\n",
       "    </tr>\n",
       "    <tr>\n",
       "      <th>3</th>\n",
       "      <td>[0, 2, 3, 4]</td>\n",
       "      <td>-24.0</td>\n",
       "    </tr>\n",
       "    <tr>\n",
       "      <th>4</th>\n",
       "      <td>[0, 2, 4]</td>\n",
       "      <td>8.0</td>\n",
       "    </tr>\n",
       "    <tr>\n",
       "      <th>5</th>\n",
       "      <td>[0, 3, 4]</td>\n",
       "      <td>4.0</td>\n",
       "    </tr>\n",
       "  </tbody>\n",
       "</table>\n",
       "</div>"
      ],
      "text/plain": [
       "              path  effect\n",
       "0  [0, 1, 2, 3, 4]     3.0\n",
       "1     [0, 1, 2, 4]    -1.0\n",
       "2        [0, 1, 4]     0.5\n",
       "3     [0, 2, 3, 4]   -24.0\n",
       "4        [0, 2, 4]     8.0\n",
       "5        [0, 3, 4]     4.0"
      ]
     },
     "execution_count": 33,
     "metadata": {},
     "output_type": "execute_result"
    }
   ],
   "source": [
    "from lingam.utils import find_all_paths\n",
    "\n",
    "paths = find_all_paths(m, 0, 4)\n",
    "pd.DataFrame({'path': paths[0], 'effect': paths[1]})"
   ]
  },
  {
   "cell_type": "code",
   "execution_count": null,
   "metadata": {},
   "outputs": [],
   "source": []
  }
 ],
 "metadata": {
  "kernelspec": {
   "display_name": "Python 3 (ipykernel)",
   "language": "python",
   "name": "python3"
  },
  "language_info": {
   "codemirror_mode": {
    "name": "ipython",
    "version": 3
   },
   "file_extension": ".py",
   "mimetype": "text/x-python",
   "name": "python",
   "nbconvert_exporter": "python",
   "pygments_lexer": "ipython3",
   "version": "3.11.3"
  },
  "toc": {
   "base_numbering": 1,
   "nav_menu": {},
   "number_sections": true,
   "sideBar": true,
   "skip_h1_title": false,
   "title_cell": "Table of Contents",
   "title_sidebar": "Contents",
   "toc_cell": false,
   "toc_position": {
    "height": "calc(100% - 180px)",
    "left": "10px",
    "top": "150px",
    "width": "232.727px"
   },
   "toc_section_display": true,
   "toc_window_display": false
  }
 },
 "nbformat": 4,
 "nbformat_minor": 4
}
